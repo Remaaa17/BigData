{
 "cells": [
  {
   "cell_type": "code",
   "execution_count": 1,
   "id": "f2273d8d-0e6e-4979-97ae-009cda300b51",
   "metadata": {},
   "outputs": [],
   "source": [
    "import requests\n",
    "from bs4 import BeautifulSoup"
   ]
  },
  {
   "cell_type": "code",
   "execution_count": 2,
   "id": "e50b6d42-5b9d-43fa-a36d-3b9ca0f64f8b",
   "metadata": {},
   "outputs": [],
   "source": [
    "# Make a request to the website\n",
    "url = \"http://books.toscrape.com/\"\n",
    "response = requests.get(url)"
   ]
  },
  {
   "cell_type": "code",
   "execution_count": 3,
   "id": "2c1fe518-9891-4bbf-b2b1-b4fb62e547cf",
   "metadata": {},
   "outputs": [],
   "source": [
    "# Check if the request was successful (status code 200)\n",
    "if response.status_code == 200:\n",
    "    # Parse the HTML content of the page\n",
    "    soup = BeautifulSoup(response.content, 'html.parser')"
   ]
  },
  {
   "cell_type": "code",
   "execution_count": 4,
   "id": "dcd37667-0492-4f70-9e1e-1f1cbe836cd4",
   "metadata": {},
   "outputs": [],
   "source": [
    "# Extract information from the page\n",
    "# For example, let's extract the titles of all books on the page\n",
    "book_titles = soup.find_all('h3')  # Assuming book titles are wrapped in <h3> tags\n"
   ]
  },
  {
   "cell_type": "code",
   "execution_count": 5,
   "id": "04e8c203-89d9-41a4-9c6e-520c1598e163",
   "metadata": {},
   "outputs": [
    {
     "name": "stdout",
     "output_type": "stream",
     "text": [
      "A Light in the ...\n",
      "Tipping the Velvet\n",
      "Soumission\n",
      "Sharp Objects\n",
      "Sapiens: A Brief History ...\n",
      "The Requiem Red\n",
      "The Dirty Little Secrets ...\n",
      "The Coming Woman: A ...\n",
      "The Boys in the ...\n",
      "The Black Maria\n",
      "Starving Hearts (Triangular Trade ...\n",
      "Shakespeare's Sonnets\n",
      "Set Me Free\n",
      "Scott Pilgrim's Precious Little ...\n",
      "Rip it Up and ...\n",
      "Our Band Could Be ...\n",
      "Olio\n",
      "Mesaerion: The Best Science ...\n",
      "Libertarianism for Beginners\n",
      "It's Only the Himalayas\n",
      "Failed to retrieve the page. Status code: 200\n"
     ]
    }
   ],
   "source": [
    "# Print the titles\n",
    "for title in book_titles:\n",
    "     print(title.text.strip())\n",
    "else:\n",
    "    print(f\"Failed to retrieve the page. Status code: {response.status_code}\")\n"
   ]
  },
  {
   "cell_type": "code",
   "execution_count": 6,
   "id": "a0fc9984-6e4f-4667-8ec6-d566640dc669",
   "metadata": {},
   "outputs": [
    {
     "name": "stdout",
     "output_type": "stream",
     "text": [
      "Data exported to book_titles.csv\n"
     ]
    }
   ],
   "source": [
    "import requests\n",
    "from bs4 import BeautifulSoup\n",
    "import csv\n",
    "\n",
    "# Make a request to the website\n",
    "url = \"http://books.toscrape.com/\"\n",
    "response = requests.get(url)\n",
    "\n",
    "# Check if the request was successful (status code 200)\n",
    "if response.status_code == 200:\n",
    "    # Parse the HTML content of the page\n",
    "    soup = BeautifulSoup(response.content, 'html.parser')\n",
    "\n",
    "    # Extract information from the page\n",
    "    # For example, let's extract the titles of all books on the page\n",
    "    book_titles = [title.text.strip() for title in soup.find_all('h3')]\n",
    "\n",
    "    # Export data to a CSV file\n",
    "    csv_filename = \"book_titles.csv\"\n",
    "\n",
    "    with open(csv_filename, 'w', newline='', encoding='utf-8') as csv_file:\n",
    "        # Create a CSV writer object\n",
    "        csv_writer = csv.writer(csv_file)\n",
    "\n",
    "        # Write header (if needed)\n",
    "        csv_writer.writerow([\"Book Title\"])\n",
    "\n",
    "        # Write data to the CSV file\n",
    "        for title in book_titles:\n",
    "            csv_writer.writerow([title])\n",
    "\n",
    "    print(f\"Data exported to {csv_filename}\")\n",
    "\n",
    "else:\n",
    "    print(f\"Failed to retrieve the page. Status code: {response.status_code}\")\n"
   ]
  },
  {
   "cell_type": "code",
   "execution_count": 12,
   "id": "f5c0a739-0dab-4e37-a366-83895579dfa5",
   "metadata": {},
   "outputs": [
    {
     "name": "stdout",
     "output_type": "stream",
     "text": [
      "Title: A Light in the ..., Price: £51.77, Link: http://books.toscrape.com/catalogue/a-light-in-the-attic_1000/index.html\n",
      "Title: Tipping the Velvet, Price: £53.74, Link: http://books.toscrape.com/catalogue/tipping-the-velvet_999/index.html\n",
      "Title: Soumission, Price: £50.10, Link: http://books.toscrape.com/catalogue/soumission_998/index.html\n",
      "Title: Sharp Objects, Price: £47.82, Link: http://books.toscrape.com/catalogue/sharp-objects_997/index.html\n",
      "Title: Sapiens: A Brief History ..., Price: £54.23, Link: http://books.toscrape.com/catalogue/sapiens-a-brief-history-of-humankind_996/index.html\n",
      "Title: The Requiem Red, Price: £22.65, Link: http://books.toscrape.com/catalogue/the-requiem-red_995/index.html\n",
      "Title: The Dirty Little Secrets ..., Price: £33.34, Link: http://books.toscrape.com/catalogue/the-dirty-little-secrets-of-getting-your-dream-job_994/index.html\n",
      "Title: The Coming Woman: A ..., Price: £17.93, Link: http://books.toscrape.com/catalogue/the-coming-woman-a-novel-based-on-the-life-of-the-infamous-feminist-victoria-woodhull_993/index.html\n",
      "Title: The Boys in the ..., Price: £22.60, Link: http://books.toscrape.com/catalogue/the-boys-in-the-boat-nine-americans-and-their-epic-quest-for-gold-at-the-1936-berlin-olympics_992/index.html\n",
      "Title: The Black Maria, Price: £52.15, Link: http://books.toscrape.com/catalogue/the-black-maria_991/index.html\n",
      "Title: Starving Hearts (Triangular Trade ..., Price: £13.99, Link: http://books.toscrape.com/catalogue/starving-hearts-triangular-trade-trilogy-1_990/index.html\n",
      "Title: Shakespeare's Sonnets, Price: £20.66, Link: http://books.toscrape.com/catalogue/shakespeares-sonnets_989/index.html\n",
      "Title: Set Me Free, Price: £17.46, Link: http://books.toscrape.com/catalogue/set-me-free_988/index.html\n",
      "Title: Scott Pilgrim's Precious Little ..., Price: £52.29, Link: http://books.toscrape.com/catalogue/scott-pilgrims-precious-little-life-scott-pilgrim-1_987/index.html\n",
      "Title: Rip it Up and ..., Price: £35.02, Link: http://books.toscrape.com/catalogue/rip-it-up-and-start-again_986/index.html\n",
      "Title: Our Band Could Be ..., Price: £57.25, Link: http://books.toscrape.com/catalogue/our-band-could-be-your-life-scenes-from-the-american-indie-underground-1981-1991_985/index.html\n",
      "Title: Olio, Price: £23.88, Link: http://books.toscrape.com/catalogue/olio_984/index.html\n",
      "Title: Mesaerion: The Best Science ..., Price: £37.59, Link: http://books.toscrape.com/catalogue/mesaerion-the-best-science-fiction-stories-1800-1849_983/index.html\n",
      "Title: Libertarianism for Beginners, Price: £51.33, Link: http://books.toscrape.com/catalogue/libertarianism-for-beginners_982/index.html\n",
      "Title: It's Only the Himalayas, Price: £45.17, Link: http://books.toscrape.com/catalogue/its-only-the-himalayas_981/index.html\n"
     ]
    }
   ],
   "source": [
    "import requests\n",
    "from bs4 import BeautifulSoup\n",
    "\n",
    "# Make a request to the website\n",
    "url = \"http://books.toscrape.com/\"\n",
    "response = requests.get(url)\n",
    "\n",
    "# Check if the request was successful (status code 200)\n",
    "if response.status_code == 200:\n",
    "    # Parse the HTML content of the page\n",
    "    soup = BeautifulSoup(response.content, 'html.parser')\n",
    "\n",
    "    # Extract information from the page\n",
    "    # For example, let's extract the titles, prices, and links of all books on the page\n",
    "    book_containers = soup.find_all('article', class_='product_pod')  # Assuming book containers have the class 'product_pod'\n",
    "\n",
    "    # Print the titles, prices, and links\n",
    "    for container in book_containers:\n",
    "        title = container.h3.a.text\n",
    "        price = container.select('div p.price_color')[0].text  # Assuming the price is within a <p> tag with class 'price_color'\n",
    "        link = url + container.h3.a['href']  # Constructing the full link by appending the relative href to the base URL\n",
    "        print(f\"Title: {title}, Price: {price}, Link: {link}\")\n",
    "\n",
    "else:\n",
    "    print(f\"Failed to retrieve the page. Status code: {response.status_code}\")\n",
    "\n",
    "\n"
   ]
  },
  {
   "cell_type": "code",
   "execution_count": 14,
   "id": "b0f60c86-7a3c-4e3b-a655-08d067595b7f",
   "metadata": {},
   "outputs": [
    {
     "name": "stdout",
     "output_type": "stream",
     "text": [
      "Data exported to book_data.csv\n"
     ]
    }
   ],
   "source": [
    "import requests\n",
    "from bs4 import BeautifulSoup\n",
    "import csv\n",
    "\n",
    "# Make a request to the website\n",
    "url = \"http://books.toscrape.com/\"\n",
    "response = requests.get(url)\n",
    "\n",
    "# Check if the request was successful (status code 200)\n",
    "if response.status_code == 200:\n",
    "    # Parse the HTML content of the page\n",
    "    soup = BeautifulSoup(response.content, 'html.parser')\n",
    "\n",
    "    # Extract information from the page\n",
    "    # For example, let's extract the titles, prices, and links of all books on the page\n",
    "    book_containers = soup.find_all('article', class_='product_pod')  # Assuming book containers have the class 'product_pod'\n",
    "\n",
    "    # Export data to a CSV file\n",
    "    csv_filename = \"book_data.csv\"\n",
    "\n",
    "    with open(csv_filename, 'w', newline='', encoding='utf-8') as csv_file:\n",
    "        # Create a CSV writer object\n",
    "        csv_writer = csv.writer(csv_file)\n",
    "\n",
    "        # Write header\n",
    "        csv_writer.writerow([\"Title\", \"Price\", \"Link\"])\n",
    "\n",
    "        # Write data to the CSV file\n",
    "        for container in book_containers:\n",
    "            title = container.h3.a.text\n",
    "            price = container.select('div p.price_color')[0].text  # Assuming the price is within a <p> tag with class 'price_color'\n",
    "            link = url + container.h3.a['href']  # Constructing the full link by appending the relative href to the base URL\n",
    "            csv_writer.writerow([title, price, link])\n",
    "\n",
    "    print(f\"Data exported to {csv_filename}\")\n",
    "\n",
    "else:\n",
    "    print(f\"Failed to retrieve the page. Status code: {response.status_code}\")\n"
   ]
  },
  {
   "cell_type": "code",
   "execution_count": null,
   "id": "441e773a-3f4c-40c1-a093-f0a8d09bd71b",
   "metadata": {},
   "outputs": [],
   "source": []
  }
 ],
 "metadata": {
  "kernelspec": {
   "display_name": "Python 3 (ipykernel)",
   "language": "python",
   "name": "python3"
  },
  "language_info": {
   "codemirror_mode": {
    "name": "ipython",
    "version": 3
   },
   "file_extension": ".py",
   "mimetype": "text/x-python",
   "name": "python",
   "nbconvert_exporter": "python",
   "pygments_lexer": "ipython3",
   "version": "3.11.7"
  }
 },
 "nbformat": 4,
 "nbformat_minor": 5
}
