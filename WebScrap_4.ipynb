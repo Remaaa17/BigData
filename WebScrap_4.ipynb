{
 "cells": [
  {
   "cell_type": "code",
   "execution_count": 2,
   "id": "2472466f-9787-4da5-a35f-5dc17163189c",
   "metadata": {},
   "outputs": [],
   "source": [
    "from  pyspark.sql import SparkSession\n",
    "from pyspark.sql import *\n",
    "from pyspark.sql.functions import countDistinct\n",
    "from pyspark.sql import functions as f"
   ]
  },
  {
   "cell_type": "code",
   "execution_count": 3,
   "id": "ec93623b-380f-4166-884e-7a7fcecbe1d4",
   "metadata": {},
   "outputs": [],
   "source": [
    "spark = SparkSession.builder.appName(\"My_Spark_Project\")\\\n",
    ".config(\"spark.memory.offHeap. enabled\", \"true\") . config(\"spark.memory.offHeap. size\", \"10g\") \\\n",
    ".getOrCreate()"
   ]
  },
  {
   "cell_type": "code",
   "execution_count": 7,
   "id": "282f36a1-0c7b-4402-9148-4d6032975708",
   "metadata": {
    "scrolled": true
   },
   "outputs": [
    {
     "name": "stdout",
     "output_type": "stream",
     "text": [
      "root\n",
      " |-- Title: string (nullable = true)\n",
      " |-- description: string (nullable = true)\n",
      " |-- authors: string (nullable = true)\n",
      " |-- image: string (nullable = true)\n",
      " |-- previewLink: string (nullable = true)\n",
      " |-- publisher: string (nullable = true)\n",
      " |-- publishedDate: string (nullable = true)\n",
      " |-- infoLink: string (nullable = true)\n",
      " |-- categories: string (nullable = true)\n",
      " |-- ratingsCount: string (nullable = true)\n",
      "\n",
      "Count of dataframe: 212404\n"
     ]
    }
   ],
   "source": [
    "books_data_df.printSchema()\n",
    "print(\"Count of dataframe:\",books_data_df.count())"
   ]
  },
  {
   "cell_type": "code",
   "execution_count": 10,
   "id": "5ca992f0-aff2-4723-b4fb-520009fd9020",
   "metadata": {
    "scrolled": true
   },
   "outputs": [
    {
     "name": "stdout",
     "output_type": "stream",
     "text": [
      "+-------+--------------------+--------------------+--------------------+--------------------+--------------------+--------------------+--------------------+--------------------+--------------------+--------------------+\n",
      "|summary|               Title|         description|             authors|               image|         previewLink|           publisher|       publishedDate|            infoLink|          categories|        ratingsCount|\n",
      "+-------+--------------------+--------------------+--------------------+--------------------+--------------------+--------------------+--------------------+--------------------+--------------------+--------------------+\n",
      "|  count|              212403|              144047|              181153|              161213|              188349|              139274|              186560|              188103|              171880|               63852|\n",
      "|   mean|   3823.672941176471|  1.4285714285714286|              1578.4|              1184.0|            Infinity|             3734.75|   1982.702933143332|   1989.054693877551|  1983.7334777898159|   56.31520537852275|\n",
      "| stddev|  10717.999589636447|  0.9759000729485332|  1278.7901502106834|   959.3546076180041|                 NaN|  10193.316327911616|   37.65620052385513|   94.83861134693093|  142.43423125699238|  329.20879859753734|\n",
      "|    min|  \"\"\" Film technique|              \"\" and| \"\" \"\"I'm a Littl...| \"\" \"\"In Honor of...| \"\" \"\"The Barefoo...| \"\" \"\"Skipper Ire...| \"\" \"\"Cruising fo...| \"\" Rawlins says....| \"\" Knox's quirky...| !Buscalo!'s easy...|\n",
      "|    max|you can do anythi...|�Una novela llam�...|” “Jeanie with th...|” “sexual napalm…...|” headlines eight...|                펜립|” which is anthol...|        秀和システム|�� folk art is a ...|              谷月社|\n",
      "+-------+--------------------+--------------------+--------------------+--------------------+--------------------+--------------------+--------------------+--------------------+--------------------+--------------------+\n",
      "\n"
     ]
    }
   ],
   "source": [
    "books_data_df.describe().show()"
   ]
  },
  {
   "cell_type": "code",
   "execution_count": 15,
   "id": "a2edef05-1938-4ec5-bd5c-af98981b7fd7",
   "metadata": {},
   "outputs": [
    {
     "name": "stdout",
     "output_type": "stream",
     "text": [
      "+----------------+----------------------+------------------+----------------+----------------------+--------------------+------------------------+-------------------+---------------------+-----------------------+\n",
      "|Title_null_count|description_null_count|authors_null_count|image_null_count|previewLink_null_count|publisher_null_count|publishedDate_null_count|infoLink_null_count|categories_null_count|ratingsCount_null_count|\n",
      "+----------------+----------------------+------------------+----------------+----------------------+--------------------+------------------------+-------------------+---------------------+-----------------------+\n",
      "|               1|                 68357|             31251|           51191|                 24055|               73130|                   25844|              24301|                40524|                 148552|\n",
      "+----------------+----------------------+------------------+----------------+----------------------+--------------------+------------------------+-------------------+---------------------+-----------------------+\n",
      "\n"
     ]
    }
   ],
   "source": [
    "from pyspark.sql.functions import col, sum as spark_sum\n",
    "# Count null values in each column\n",
    "null_counts = books_data_df.agg(*[spark_sum(col(c).isNull().cast(\"int\")).alias(c + '_null_count') for c in books_data_df.columns])\n",
    "\n",
    "# Show the result\n",
    "null_counts.show()"
   ]
  },
  {
   "cell_type": "code",
   "execution_count": null,
   "id": "6ffe3c6e-df78-435c-a457-87541ef0f8c5",
   "metadata": {},
   "outputs": [],
   "source": []
  },
  {
   "cell_type": "code",
   "execution_count": 5,
   "id": "d212169d-e04a-4e43-b89d-6027fd97e9a2",
   "metadata": {},
   "outputs": [
    {
     "name": "stdout",
     "output_type": "stream",
     "text": [
      "+-------------------+----------+------------+--------------------+--------------------+---------------+--------+--------------------+-------------+-------------+--------+--------------------+-------------+--------------------+-----------+--------------------+----+------------------+-----------------+-------------------+------------+--------------+--------------------+---------------------+\n",
      "|Invoice/Item Number|      Date|Store Number|          Store Name|             Address|           City|Zip Code|      Store Location|County Number|       County|Category|       Category Name|Vendor Number|         Vendor Name|Item Number|    Item Description|Pack|Bottle Volume (ml)|State Bottle Cost|State Bottle Retail|Bottles Sold|Sale (Dollars)|Volume Sold (Liters)|Volume Sold (Gallons)|\n",
      "+-------------------+----------+------------+--------------------+--------------------+---------------+--------+--------------------+-------------+-------------+--------+--------------------+-------------+--------------------+-----------+--------------------+----+------------------+-----------------+-------------------+------------+--------------+--------------------+---------------------+\n",
      "|       S24127700024|02/19/2015|        3678|     Smoke Shop, The|     1918 SE 14TH ST|     DES MOINES|   50320|POINT (-93.597011...|           77|         Polk| 1031200|      VODKA FLAVORED|          380|Phillips Beverage...|      41783|Uv Blue Raspberry...|   6|               500|             4.89|               7.34|           2|         14.68|                 1.0|                 0.26|\n",
      "|       S15066200002|10/10/2013|        2633|Hy-Vee #3 / BDI /...|     3221 SE 14TH ST|     DES MOINES|   50320|POINT (-93.596754...|           77|         Polk| 1082900|MISC. IMPORTED CO...|          305|             MHW Ltd|     904969|Sabe Premiom Sake...|   6|               750|            14.99|              22.49|           6|        134.94|                 4.5|                 1.19|\n",
      "|       S19323500030|06/03/2014|        2607|Hy-Vee Wine and S...|      520 SO FREMONT|     SHENANDOAH|   51601|POINT (-95.385111...|           73|         Page| 1062200|PUERTO RICO & VIR...|          434|      Luxco-St Louis|      45277| Paramount White Rum|  12|              1000|             4.34|               6.51|          12|         78.12|                12.0|                 3.17|\n",
      "|       S23334500013|01/06/2015|        4810|Kum & Go #518 / A...|3603 NE OTTERVIEW...|         ANKENY|   50021|POINT (-93.572458...|           77|         Polk| 1062200|PUERTO RICO & VIR...|           35|Bacardi U.S.A., Inc.|      43121|Bacardi Superior ...|  12|               500|             5.54|               8.31|           1|          8.31|                 0.5|                 0.13|\n",
      "|       S09742200010|12/27/2012|        4025|Karam Kaur Khasri...|         702 13TH ST|   BELLE PLAINE|   52208|POINT (-92.277759...|            6|       Benton| 1012100|   CANADIAN WHISKIES|          260|     Diageo Americas|      11298|Crown Royal Canad...|   6|              1750|             31.0|              46.49|           2|         92.98|                 3.5|                 0.92|\n",
      "|       S15034600007|10/09/2013|        4583|Kum & Go #5100 / ...|         208 MAIN ST|         MANSON|   50563|POINT (-94.534532...|           13|      Calhoun| 1081200|      CREAM LIQUEURS|          305|             MHW Ltd|      73050|            Rumchata|   6|               750|             12.5|              18.75|           6|         112.5|                 4.5|                 1.19|\n",
      "|       S25185100053|04/21/2015|        5080|    C's Liquor Store|       719 2ND AVE W|        SPENCER|   51301|POINT (-95.147741...|           21|         Clay| 1081390|   IMPORTED SCHNAPPS|          421|   Sazerac Co., Inc.|      69713|Dr. McGillicuddy'...|  12|               500|             4.96|               7.44|           1|          7.44|                 0.5|                 0.13|\n",
      "|       S25786400073|05/21/2015|        5102|      Wilkie Liquors|    724, 1st  ST  SE|   MOUNT VERNON|   52314|POINT (-91.410401...|           57|         Linn| 1031080|      VODKA 80 PROOF|          434|      Luxco-St Louis|      36307|       Hawkeye Vodka|  12|              1000|             4.05|               6.08|          24|        145.92|                24.0|                 6.34|\n",
      "|       S26178600169|06/15/2015|        2506|Hy-Vee #1044 / Bu...|         3140 AGENCY|     BURLINGTON|   52601|POINT (-91.136655...|           29|   Des Moines| 1081600|     WHISKEY LIQUEUR|          260|     Diageo Americas|      66206|Piehole Cherry Pi...|  12|               500|              4.9|               7.35|           1|          7.35|                 0.5|                 0.13|\n",
      "|       S11599200028|04/11/2013|        2630|Hy-Vee Drugstore ...|       1010  60TH ST|WEST DES MOINES|   50266|POINT (-93.790534...|           77|         Polk| 1071100|  AMERICAN COCKTAILS|          395|             Proximo|      58838|Jose Cuervo Authe...|   6|              1750|              8.2|               12.3|           6|          73.8|                10.5|                 2.77|\n",
      "|       S14039300026|08/21/2013|        3916|Smokin' Joe's #5 ...|       1115 ALBIA RD|        OTTUMWA|   52501|POINT (-92.437224...|           90|      Wapello| 1012100|   CANADIAN WHISKIES|          260|     Diageo Americas|      11294|Crown Royal Canad...|  24|               375|             7.65|              11.48|           1|         11.48|                0.38|                  0.1|\n",
      "|       S14777200004|09/25/2013|        4073|  Uptown Liquor, Llc|    306 HWY 69 SOUTH|    FOREST CITY|   50436|POINT (-93.633306...|           95|    Winnebago| 1012100|   CANADIAN WHISKIES|           55|Sazerac North Ame...|      12407| Canadian Ltd Whisky|  12|              1000|              5.5|               8.25|          12|          99.0|                12.0|                 3.17|\n",
      "|       S28698700004|10/27/2015|        2578|Hy-Vee / Charles ...|        901 KELLY ST|   CHARLES CITY|   50616|POINT (-92.675560...|           34|        Floyd| 1031080|      VODKA 80 PROOF|          260|     Diageo Americas|      37426|Popov Vodka 80 Pr...|  12|               750|              4.5|               6.75|          12|          81.0|                 9.0|                 2.38|\n",
      "|       S15825800006|11/20/2013|        4465| HOME TOWN FOOD ON 4|       714 S EAST ST|        POMEROY|   50575|POINT (-94.678054...|           13|      Calhoun| 1011100|    BLENDED WHISKIES|          434|      Luxco-St Louis|      24156|Hawkeye Blend Whi...|  12|               750|             3.36|               5.04|          24|        120.96|                18.0|                 4.76|\n",
      "|       S27233900076|08/10/2015|        2613|Hy-Vee Food Store...|     2323 W BROADWAY| COUNCIL BLUFFS|   51501|POINT (-95.879662...|           78|Pottawattamie| 1022100|             TEQUILA|          410|The Patron Spirit...|      88296|Patron Tequila Si...|  12|               750|             27.0|               40.5|          12|         486.0|                 9.0|                 2.38|\n",
      "|       S11716100052|04/17/2013|        3990|Cork and Bottle /...|      309 A AVE WEST|      OSKALOOSA|   52577|POINT (-92.648153...|           62|      Mahaska| 1032200|IMPORTED VODKA - ...|           35|Bacardi U.S.A., Inc.|      34436|Grey Goose Vodka ...|   6|               750|            17.97|              26.96|           1|         26.96|                0.75|                  0.2|\n",
      "|       S28977300019|11/10/2015|        4743|No Frills Superma...| 1801 VALLEY VIEW DR| COUNCIL BLUFFS|   51503|POINT (-95.818775...|           78|Pottawattamie| 1022100|             TEQUILA|          395|             Proximo|      89198|Jose Cuervo Espec...|   6|              1750|            20.25|              30.38|           6|        182.28|                10.5|                 2.77|\n",
      "|       S10005300010|01/15/2013|        2460|   Liquor Barn, Inc.|721 CENTRAL AVENU...|        HAMPTON|   50441|POINT (-93.21693 ...|           35|     Franklin| 1012100|   CANADIAN WHISKIES|           85|Brown-Forman Corp...|      12476|Canadian Mist Whi...|  12|               750|             5.44|               8.15|          12|          97.8|                 9.0|                 2.38|\n",
      "|       S08028500005|10/01/2012|        4109|           Best Trip|         1516 SE 1ST|     DES MOINES|   50315|POINT (-93.613469...|           77|         Polk| 1011500|STRAIGHT RYE WHIS...|          255| Wilson Daniels Ltd.|      27102|       Templeton Rye|   6|               750|            18.08|              27.13|           6|        162.78|                 4.5|                 1.19|\n",
      "|       S12260600026|05/16/2013|        3918|Smokin' Joe's #1 ...|  3120 ROCKINGHAM RD|      DAVENPORT|   52802|POINT (-90.621541...|           82|        Scott| 1081300| PEPPERMINT SCHNAPPS|          434|      Luxco-St Louis|      80576|Arrow Peppermint ...|  12|               750|             3.42|               5.13|           1|          5.13|                0.75|                  0.2|\n",
      "+-------------------+----------+------------+--------------------+--------------------+---------------+--------+--------------------+-------------+-------------+--------+--------------------+-------------+--------------------+-----------+--------------------+----+------------------+-----------------+-------------------+------------+--------------+--------------------+---------------------+\n",
      "only showing top 20 rows\n",
      "\n"
     ]
    }
   ],
   "source": [
    "file_path = r\"C:\\Users\\abdel\\Downloads\\BigData_Project\\Sales_Data\\Liquor_Sales.csv\"\n",
    "# Read the CSV file into a DataFrame\n",
    "Liquor_Sales_df = spark.read.csv(file_path, header=True, inferSchema=True)\n",
    "Liquor_Sales_df.show()"
   ]
  },
  {
   "cell_type": "code",
   "execution_count": 6,
   "id": "c2bc7e5e-c8d2-42f6-bb7e-5080592d347f",
   "metadata": {},
   "outputs": [
    {
     "name": "stdout",
     "output_type": "stream",
     "text": [
      "+----------+--------------------+-----+--------------+--------------------+------------------+------------+-----------+--------------------+--------------------+\n",
      "|        Id|               Title|Price|       User_id|         profileName|review/helpfulness|review/score|review/time|      review/summary|         review/text|\n",
      "+----------+--------------------+-----+--------------+--------------------+------------------+------------+-----------+--------------------+--------------------+\n",
      "|1882931173|Its Only Art If I...| null| AVCGYZL8FQQTD|\"Jim of Oz \"\"jim-...|               7/7|         4.0|  940636800|Nice collection o...|This is only for ...|\n",
      "|0826414346|Dr. Seuss: Americ...| null|A30TK6U7DNS82R|       Kevin Killian|             10/10|         5.0| 1095724800|   Really Enjoyed It|I don't care much...|\n",
      "|0826414346|Dr. Seuss: Americ...| null|A3UH4UZ4RSVO82|        John Granger|             10/11|         5.0| 1078790400|Essential for eve...|\"If people become...|\n",
      "|0826414346|Dr. Seuss: Americ...| null|A2MVUWT453QH61|\"Roy E. Perry \"\"a...|               7/7|         4.0| 1090713600|Phlip Nel gives s...|Theodore Seuss Ge...|\n",
      "|0826414346|Dr. Seuss: Americ...| null|A22X4XUPKF66MR|\"D. H. Richards \"...|               3/3|         4.0| 1107993600|Good academic ove...|\"Philip Nel - Dr....|\n",
      "|0826414346|Dr. Seuss: Americ...| null|A2F6NONFUDB6UK|              Malvin|               2/2|         4.0| 1127174400|One of America's ...|\"\"\"Dr. Seuss: Ame...|\n",
      "|0826414346|Dr. Seuss: Americ...| null|A14OJS0VWMOSWO| Midwest Book Review|               3/4|         5.0| 1100131200|A memorably excel...|Theodor Seuss Gie...|\n",
      "|0826414346|Dr. Seuss: Americ...| null|A2RSSXTDZDUSH4|           J. Squire|               0/0|         5.0| 1231200000|Academia At It's ...|\"When I recieved ...|\n",
      "|0826414346|Dr. Seuss: Americ...| null|A25MD5I2GUIW6W|\"J. P. HIGBED \"\"b...|               0/0|         5.0| 1209859200|And to think that...|\"Trams (or any pu...|\n",
      "|0826414346|Dr. Seuss: Americ...| null|A3VA4XFS5WNJO3|     Donald Burnside|               3/5|         4.0| 1076371200|Fascinating accou...|As far as I am aw...|\n",
      "|0829814000|Wonderful Worship...|19.40| AZ0IOBU20TBOP|  Rev. Pamela Tinnin|              8/10|         5.0|  991440000|Outstanding Resou...|I just finished t...|\n",
      "|0829814000|Wonderful Worship...|19.40|A373VVEU6Z9M0N|Dr. Terry W. Dorsett|               1/1|         5.0| 1291766400|Small Churches CA...|\"Many small churc...|\n",
      "|0829814000|Wonderful Worship...|19.40| AGKGOH65VTRR4|\"Cynthia L. Lajoy...|               1/1|         5.0| 1248307200|Not Just for Past...|I just finished r...|\n",
      "|0829814000|Wonderful Worship...|19.40| A3OQWLU31BU1Y|       Maxwell Grant|               1/1|         5.0| 1222560000|Small church past...|\"I hadn't been a ...|\n",
      "|0595344550|Whispers of the W...|10.95|A3Q12RK71N74LB|         Book Reader|              7/11|         1.0| 1117065600|            not good|I bought this boo...|\n",
      "|0595344550|Whispers of the W...|10.95|A1E9M6APK30ZAU|           V. Powell|               1/2|         4.0| 1119571200|  Here is my opinion|\"I have to admit,...|\n",
      "|0595344550|Whispers of the W...|10.95| AUR0VA5H0C66C|\"LoveToRead \"\"Act...|               1/2|         1.0| 1119225600|        Buyer beware|\"This is a self-p...|\n",
      "|0595344550|Whispers of the W...|10.95|A1YLDZ3VHR6QPZ|               Clara|               2/4|         5.0| 1115942400| Fall on your knee's|When I first read...|\n",
      "|0595344550|Whispers of the W...|10.95| ACO23CG8K8T77|               Tonya|               5/9|         5.0| 1117065600|      Bravo Veronica|I read the review...|\n",
      "|0595344550|Whispers of the W...|10.95|A1VK81CRRC7MLM|\"missyLou \"\"apple\"\"\"|               1/3|         5.0| 1130025600|           Wonderful|\"I really enjoyed...|\n",
      "+----------+--------------------+-----+--------------+--------------------+------------------+------------+-----------+--------------------+--------------------+\n",
      "only showing top 20 rows\n",
      "\n"
     ]
    }
   ],
   "source": [
    "file_path = r\"C:\\Users\\abdel\\Downloads\\BigData_Project\\Sales_Data\\Books_rating.csv\"\n",
    "# Read the CSV file into a DataFrame\n",
    "Liquor_Sales_df = spark.read.csv(file_path, header=True, inferSchema=True)\n",
    "Liquor_Sales_df.show()"
   ]
  },
  {
   "cell_type": "code",
   "execution_count": null,
   "id": "e3962699-d032-447a-86c7-21179c5f7c4c",
   "metadata": {},
   "outputs": [],
   "source": []
  },
  {
   "cell_type": "code",
   "execution_count": 17,
   "id": "857bfca5-3f8f-4219-9b6f-d76591cd97da",
   "metadata": {
    "scrolled": true
   },
   "outputs": [
    {
     "name": "stdout",
     "output_type": "stream",
     "text": [
      "Most frequent value in column 'Title': \"\"\"Mom\n",
      "Most frequent value in column 'description': None\n",
      "Most frequent value in column 'authors': None\n",
      "Most frequent value in column 'image': None\n",
      "Most frequent value in column 'previewLink': None\n",
      "Most frequent value in column 'publisher': None\n",
      "Most frequent value in column 'publishedDate': None\n",
      "Most frequent value in column 'infoLink': None\n",
      "Most frequent value in column 'categories': None\n",
      "Most frequent value in column 'ratingsCount': None\n"
     ]
    }
   ],
   "source": [
    "# List of columns to find most frequent values\n",
    "cols_to_check = [\"Title\", \"description\", \"authors\", \"image\", \"previewLink\", \"publisher\", \"publishedDate\", \"infoLink\", \"categories\", \"ratingsCount\"]\n",
    "\n",
    "# Find the most frequent value in each column\n",
    "most_frequent_values = []\n",
    "for col_name in cols_to_check:\n",
    "    mode_value = books_data_df.groupBy(col_name).count().orderBy(col(\"count\").desc()).select(col_name).first()[0]\n",
    "    most_frequent_values.append((col_name, mode_value))\n",
    "\n",
    "# Print the most frequent value in each column\n",
    "for col_name, value in most_frequent_values:\n",
    "    print(f\"Most frequent value in column '{col_name}': {value}\")"
   ]
  },
  {
   "cell_type": "code",
   "execution_count": 21,
   "id": "c287e97d-0040-495e-984f-35b109809c83",
   "metadata": {},
   "outputs": [],
   "source": [
    "books_data_df =books_data_df.dropna()\n"
   ]
  },
  {
   "cell_type": "code",
   "execution_count": 22,
   "id": "12db3d5c-20a7-4104-a77f-63a6f64da0cd",
   "metadata": {},
   "outputs": [
    {
     "name": "stdout",
     "output_type": "stream",
     "text": [
      "Count of dataframe: 53824\n"
     ]
    }
   ],
   "source": [
    "print(\"Count of dataframe:\",books_data_df.count())"
   ]
  },
  {
   "cell_type": "code",
   "execution_count": 24,
   "id": "7e0389b8-c31b-49c2-98de-9dda4e3ec029",
   "metadata": {},
   "outputs": [],
   "source": [
    "books_data_df = books_data_df.dropDuplicates()"
   ]
  },
  {
   "cell_type": "code",
   "execution_count": 25,
   "id": "968dac2a-ce90-42e6-b8ce-c64532af03ae",
   "metadata": {},
   "outputs": [
    {
     "name": "stdout",
     "output_type": "stream",
     "text": [
      "Count of dataframe: 53824\n"
     ]
    }
   ],
   "source": [
    "print(\"Count of dataframe:\",books_data_df.count())"
   ]
  },
  {
   "cell_type": "code",
   "execution_count": 23,
   "id": "cf0c554d-fc2d-4aae-8bd4-76dc1f795d1d",
   "metadata": {},
   "outputs": [
    {
     "name": "stdout",
     "output_type": "stream",
     "text": [
      "+--------------------+--------------------+--------------------+--------------------+--------------------+--------------------+--------------------+--------------------+--------------------+--------------------+\n",
      "|               Title|         description|             authors|               image|         previewLink|           publisher|       publishedDate|            infoLink|          categories|        ratingsCount|\n",
      "+--------------------+--------------------+--------------------+--------------------+--------------------+--------------------+--------------------+--------------------+--------------------+--------------------+\n",
      "|Dr. Seuss: Americ...|\"Philip Nel takes...| like that of Lew...| has changed lang...| giving us new wo...| inspiring artist...|      ['Philip Nel']|http://books.goog...|http://books.goog...|           A&C Black|\n",
      "|The Church of Chr...|In The Church of ...|['Everett Ferguson']|http://books.goog...|http://books.goog...|Wm. B. Eerdmans P...|                1996|http://books.goog...|        ['Religion']|                 5.0|\n",
      "|Vector Quantizati...|\"Herb Caen, a pop...| but the statemen...|              i. e. | data compression...|               audio|              images| and video signal...|['Allen Gersho', ...|http://books.goog...|\n",
      "|The Repeal of Ret...|\"At a time when A...|       sex educators| and novelists—fr...| Gurstein offers ...|['Rochelle Gurste...|http://books.goog...|http://books.goog...|       Hill and Wang|          2016-01-05|\n",
      "|    Alaska Sourdough|\"\"\"Sourdough is a...| as author Ruth A...| this book includ...| three days to on...| there are more t...| loads of time-te...| and plenty of lo...| there are recipe...|     ['Ruth Allman']|\n",
      "|History of Magic ...|\"See the history ...| such as mandrake...|         key figures|         key deities|       use in spells| structures of re...| and more This in...|        superstition| and the supernat...|\n",
      "|The Forbidden Sto...|\"Marta Veneranda,...|\"\" the narrator s...| whom she will ev...| and whose mistre...| even about his s...| who would he sha...| that way no one ...| the stories are ...|['Sonia Rivera-Va...|\n",
      "|Portraits of the ...|\"A striking colle...| to the contemporary| such as Elaine d...| such as the inti...| mosaic-like Chuc...| such as the like...| including sculpt...| round out the pr...| exploring the pr...|\n",
      "|Voices from the F...|Twenty-five years...|     ['Rupert Fike']|http://books.goog...|http://books.goog...|Book Publishing C...|          2012-08-21|https://play.goog...|['Biography & Aut...|                 1.0|\n",
      "|The Battleship Bi...|The Bismarck is p...|['Stefan Draminski']|http://books.goog...|http://books.goog...|Bloomsbury Publis...|          2018-09-20|https://play.goog...|         ['History']|                 1.0|\n",
      "|   Usa Laminated Map|\"The United State...|            capitals|      major highways|              rivers|               lakes| and many major c...| so the fames can...|                 396|000Sheet Size = 3...|\n",
      "|The New Conspirac...|\"This book examin...| however unpleasa...| since they influ...| both authoritari...| all of which foc...| ['Jeffrey M. Bale']|http://books.goog...|http://books.goog...|           Routledge|\n",
      "|Tess and the High...|In 1543, on a win...|  ['May Mcgoldrick']|http://books.goog...|http://books.goog...|      Harper Collins|             2002-11|http://books.goog...|['Juvenile Fiction']|                 2.0|\n",
      "|Beginner's Yoruba...|\"\"\"Beginner's Yor...| which is spoken ...| parts of the Ben...|            and Togo| as well as in th...|                Cuba| and Haiti. The 1...| combined with gr...| aid the student ...|\n",
      "|A Dose of Sanity:...|\"\"\"Bravo to Dr. S...| make sure you ge...| People's Medical...| you need A Dose ...| hundreds of thou...|        Lyme disease| and even poor nu...| practicing psych...| he helps you and...|\n",
      "|King James: Belie...|LeBron James is a...|      ['Ryan Jones']|http://books.goog...|http://books.goog...|St. Martin's Griffin|          2003-10-10|https://play.goog...|['Sports & Recrea...|                 1.0|\n",
      "|Building the timb...|For centuries, po...|     ['Tedd Benson']|http://books.goog...|http://books.goog...|  Simon and Schuster|          1981-09-01|https://play.goog...|    ['Architecture']|                 1.0|\n",
      "|Open marriage;: A...|Advocates the imp...|  \"[\"\"Nena O'Neill\"\"| \"\"George O'Neill...|http://books.goog...|http://books.goog...|Rowman & Littlefield|                1984|http://books.goog...|['Family & Relati...|\n",
      "|No place to cry: ...|Just as God gave ...|['Dorie N. Van St...|http://books.goog...|http://books.goog...|    Moody Publishers|          1992-05-09|https://play.goog...|        ['Religion']|                 4.0|\n",
      "|The Impatient Gar...|Explains how to g...|     ['Jerry Baker']|http://books.goog...|http://books.goog...|Random House Digi...|                1987|http://books.goog...|       ['Gardening']|                 1.0|\n",
      "+--------------------+--------------------+--------------------+--------------------+--------------------+--------------------+--------------------+--------------------+--------------------+--------------------+\n",
      "only showing top 20 rows\n",
      "\n"
     ]
    }
   ],
   "source": [
    "books_data_df.show()"
   ]
  },
  {
   "cell_type": "code",
   "execution_count": null,
   "id": "2d0d5176-b085-40d0-b7e9-dd9b00d9b38c",
   "metadata": {},
   "outputs": [],
   "source": [
    "df= df.withColumnRenamed(\"previewLink\",\"preview_Link\")\n",
    "df= df.withColumnRenamed(\"publishedDate\",\"published_Date\")\n",
    "df= df.withColumnRenamed(\"infoLink\",\"info_Link\")\n",
    "df= df.withColumnRenamed(\"Customer Age\",\"Customer_Age\")\n",
    "df= df.withColumnRenamed(\"Customer Name\",\"Customer_Name\")\n",
    "df= df.withColumnRenamed(\"Product Price\",\"Product_price\")\n",
    "df.show()"
   ]
  },
  {
   "cell_type": "code",
   "execution_count": 26,
   "id": "1ca60c20-71db-4527-8ccf-a0222d6fdf46",
   "metadata": {},
   "outputs": [
    {
     "name": "stdout",
     "output_type": "stream",
     "text": [
      "root\n",
      " |-- Title: string (nullable = true)\n",
      " |-- description: string (nullable = true)\n",
      " |-- authors: string (nullable = true)\n",
      " |-- image: string (nullable = true)\n",
      " |-- previewLink: string (nullable = true)\n",
      " |-- publisher: string (nullable = true)\n",
      " |-- publishedDate: string (nullable = true)\n",
      " |-- infoLink: string (nullable = true)\n",
      " |-- categories: string (nullable = true)\n",
      " |-- ratingsCount: string (nullable = true)\n",
      "\n"
     ]
    }
   ],
   "source": [
    "books_data_df.printSchema()"
   ]
  },
  {
   "cell_type": "code",
   "execution_count": null,
   "id": "a64eecd9-62ed-44e9-889e-a53e48aefbf1",
   "metadata": {},
   "outputs": [],
   "source": []
  },
  {
   "cell_type": "code",
   "execution_count": null,
   "id": "e23d97c6-1345-418a-a1f8-d95b14d38ab4",
   "metadata": {},
   "outputs": [],
   "source": []
  },
  {
   "cell_type": "code",
   "execution_count": null,
   "id": "64a392dd-005a-45b7-b694-802af07af350",
   "metadata": {},
   "outputs": [],
   "source": []
  },
  {
   "cell_type": "code",
   "execution_count": null,
   "id": "0e1f9001-338a-4177-8507-337796dd4a66",
   "metadata": {},
   "outputs": [],
   "source": []
  },
  {
   "cell_type": "code",
   "execution_count": null,
   "id": "bd6a40fd-8890-49ee-b0ad-f383901e77c9",
   "metadata": {},
   "outputs": [],
   "source": []
  },
  {
   "cell_type": "code",
   "execution_count": null,
   "id": "46b90c3b-558e-405c-a352-ae6cdb70d744",
   "metadata": {},
   "outputs": [],
   "source": []
  },
  {
   "cell_type": "code",
   "execution_count": null,
   "id": "1233c2bc-8395-4607-b861-5d61614af220",
   "metadata": {},
   "outputs": [],
   "source": []
  },
  {
   "cell_type": "code",
   "execution_count": null,
   "id": "845c2b69-2f48-4f17-9564-b9685953e042",
   "metadata": {},
   "outputs": [],
   "source": []
  },
  {
   "cell_type": "code",
   "execution_count": null,
   "id": "5f283031-59bf-43c0-9dc6-d7708f3cc111",
   "metadata": {},
   "outputs": [],
   "source": []
  },
  {
   "cell_type": "code",
   "execution_count": null,
   "id": "b2eaf5c2-e23e-46c1-976d-2f92e0a6a3a3",
   "metadata": {},
   "outputs": [],
   "source": []
  },
  {
   "cell_type": "markdown",
   "id": "34b2febc-3128-4520-9c28-3d7d11f54e04",
   "metadata": {},
   "source": [
    "***Second Data"
   ]
  },
  {
   "cell_type": "code",
   "execution_count": null,
   "id": "87b697d8-8134-4d0f-9e0e-4364145a0c5e",
   "metadata": {},
   "outputs": [],
   "source": [
    "file_path = r\"C:\\Users\\abdel\\Downloads\\Books_rating.csv\\Books_rating.csv\"\n",
    "# Read the CSV file into a DataFrame\n",
    "Books_rating_df = spark.read.csv(file_path, header=True, inferSchema=True)\n",
    "Books_rating_df.show()"
   ]
  },
  {
   "cell_type": "code",
   "execution_count": 8,
   "id": "319897b2-8e9a-4cb1-b1c0-f29eda38a041",
   "metadata": {},
   "outputs": [
    {
     "name": "stdout",
     "output_type": "stream",
     "text": [
      "root\n",
      " |-- Id: string (nullable = true)\n",
      " |-- Title: string (nullable = true)\n",
      " |-- Price: string (nullable = true)\n",
      " |-- User_id: string (nullable = true)\n",
      " |-- profileName: string (nullable = true)\n",
      " |-- review/helpfulness: string (nullable = true)\n",
      " |-- review/score: string (nullable = true)\n",
      " |-- review/time: string (nullable = true)\n",
      " |-- review/summary: string (nullable = true)\n",
      " |-- review/text: string (nullable = true)\n",
      "\n",
      "Count of dataframe: 3000000\n"
     ]
    }
   ],
   "source": [
    "Books_rating_df.printSchema()\n",
    "print(\"Count of dataframe:\",Books_rating_df.count())"
   ]
  },
  {
   "cell_type": "code",
   "execution_count": 20,
   "id": "5f8fa028-f79f-4d75-94cd-d88abc3e5e6f",
   "metadata": {},
   "outputs": [
    {
     "ename": "IllegalArgumentException",
     "evalue": "requirement failed: Column description must be of type numeric but was actually of type string.",
     "output_type": "error",
     "traceback": [
      "\u001b[1;31m---------------------------------------------------------------------------\u001b[0m",
      "\u001b[1;31mIllegalArgumentException\u001b[0m                  Traceback (most recent call last)",
      "Cell \u001b[1;32mIn[20], line 4\u001b[0m\n\u001b[0;32m      1\u001b[0m \u001b[38;5;28;01mfrom\u001b[39;00m \u001b[38;5;21;01mpyspark\u001b[39;00m\u001b[38;5;21;01m.\u001b[39;00m\u001b[38;5;21;01mml\u001b[39;00m\u001b[38;5;21;01m.\u001b[39;00m\u001b[38;5;21;01mfeature\u001b[39;00m \u001b[38;5;28;01mimport\u001b[39;00m Imputer\n\u001b[0;32m      3\u001b[0m imputer \u001b[38;5;241m=\u001b[39m Imputer(strategy\u001b[38;5;241m=\u001b[39m\u001b[38;5;124m'\u001b[39m\u001b[38;5;124mmean\u001b[39m\u001b[38;5;124m'\u001b[39m, inputCols\u001b[38;5;241m=\u001b[39m[\u001b[38;5;124m'\u001b[39m\u001b[38;5;124mdescription\u001b[39m\u001b[38;5;124m'\u001b[39m], outputCols\u001b[38;5;241m=\u001b[39m[\u001b[38;5;124m'\u001b[39m\u001b[38;5;124mdescription_imputed\u001b[39m\u001b[38;5;124m'\u001b[39m])\n\u001b[1;32m----> 4\u001b[0m model \u001b[38;5;241m=\u001b[39m imputer\u001b[38;5;241m.\u001b[39mfit(books_data_df)\n\u001b[0;32m      5\u001b[0m df_imputed \u001b[38;5;241m=\u001b[39m model\u001b[38;5;241m.\u001b[39mtransform(books_data_df)\n",
      "File \u001b[1;32m~\\anaconda3\\Lib\\site-packages\\pyspark\\ml\\base.py:205\u001b[0m, in \u001b[0;36mEstimator.fit\u001b[1;34m(self, dataset, params)\u001b[0m\n\u001b[0;32m    203\u001b[0m         \u001b[38;5;28;01mreturn\u001b[39;00m \u001b[38;5;28mself\u001b[39m\u001b[38;5;241m.\u001b[39mcopy(params)\u001b[38;5;241m.\u001b[39m_fit(dataset)\n\u001b[0;32m    204\u001b[0m     \u001b[38;5;28;01melse\u001b[39;00m:\n\u001b[1;32m--> 205\u001b[0m         \u001b[38;5;28;01mreturn\u001b[39;00m \u001b[38;5;28mself\u001b[39m\u001b[38;5;241m.\u001b[39m_fit(dataset)\n\u001b[0;32m    206\u001b[0m \u001b[38;5;28;01melse\u001b[39;00m:\n\u001b[0;32m    207\u001b[0m     \u001b[38;5;28;01mraise\u001b[39;00m \u001b[38;5;167;01mTypeError\u001b[39;00m(\n\u001b[0;32m    208\u001b[0m         \u001b[38;5;124m\"\u001b[39m\u001b[38;5;124mParams must be either a param map or a list/tuple of param maps, \u001b[39m\u001b[38;5;124m\"\u001b[39m\n\u001b[0;32m    209\u001b[0m         \u001b[38;5;124m\"\u001b[39m\u001b[38;5;124mbut got \u001b[39m\u001b[38;5;132;01m%s\u001b[39;00m\u001b[38;5;124m.\u001b[39m\u001b[38;5;124m\"\u001b[39m \u001b[38;5;241m%\u001b[39m \u001b[38;5;28mtype\u001b[39m(params)\n\u001b[0;32m    210\u001b[0m     )\n",
      "File \u001b[1;32m~\\anaconda3\\Lib\\site-packages\\pyspark\\ml\\wrapper.py:381\u001b[0m, in \u001b[0;36mJavaEstimator._fit\u001b[1;34m(self, dataset)\u001b[0m\n\u001b[0;32m    380\u001b[0m \u001b[38;5;28;01mdef\u001b[39;00m \u001b[38;5;21m_fit\u001b[39m(\u001b[38;5;28mself\u001b[39m, dataset: DataFrame) \u001b[38;5;241m-\u001b[39m\u001b[38;5;241m>\u001b[39m JM:\n\u001b[1;32m--> 381\u001b[0m     java_model \u001b[38;5;241m=\u001b[39m \u001b[38;5;28mself\u001b[39m\u001b[38;5;241m.\u001b[39m_fit_java(dataset)\n\u001b[0;32m    382\u001b[0m     model \u001b[38;5;241m=\u001b[39m \u001b[38;5;28mself\u001b[39m\u001b[38;5;241m.\u001b[39m_create_model(java_model)\n\u001b[0;32m    383\u001b[0m     \u001b[38;5;28;01mreturn\u001b[39;00m \u001b[38;5;28mself\u001b[39m\u001b[38;5;241m.\u001b[39m_copyValues(model)\n",
      "File \u001b[1;32m~\\anaconda3\\Lib\\site-packages\\pyspark\\ml\\wrapper.py:378\u001b[0m, in \u001b[0;36mJavaEstimator._fit_java\u001b[1;34m(self, dataset)\u001b[0m\n\u001b[0;32m    375\u001b[0m \u001b[38;5;28;01massert\u001b[39;00m \u001b[38;5;28mself\u001b[39m\u001b[38;5;241m.\u001b[39m_java_obj \u001b[38;5;129;01mis\u001b[39;00m \u001b[38;5;129;01mnot\u001b[39;00m \u001b[38;5;28;01mNone\u001b[39;00m\n\u001b[0;32m    377\u001b[0m \u001b[38;5;28mself\u001b[39m\u001b[38;5;241m.\u001b[39m_transfer_params_to_java()\n\u001b[1;32m--> 378\u001b[0m \u001b[38;5;28;01mreturn\u001b[39;00m \u001b[38;5;28mself\u001b[39m\u001b[38;5;241m.\u001b[39m_java_obj\u001b[38;5;241m.\u001b[39mfit(dataset\u001b[38;5;241m.\u001b[39m_jdf)\n",
      "File \u001b[1;32m~\\anaconda3\\Lib\\site-packages\\py4j\\java_gateway.py:1322\u001b[0m, in \u001b[0;36mJavaMember.__call__\u001b[1;34m(self, *args)\u001b[0m\n\u001b[0;32m   1316\u001b[0m command \u001b[38;5;241m=\u001b[39m proto\u001b[38;5;241m.\u001b[39mCALL_COMMAND_NAME \u001b[38;5;241m+\u001b[39m\\\n\u001b[0;32m   1317\u001b[0m     \u001b[38;5;28mself\u001b[39m\u001b[38;5;241m.\u001b[39mcommand_header \u001b[38;5;241m+\u001b[39m\\\n\u001b[0;32m   1318\u001b[0m     args_command \u001b[38;5;241m+\u001b[39m\\\n\u001b[0;32m   1319\u001b[0m     proto\u001b[38;5;241m.\u001b[39mEND_COMMAND_PART\n\u001b[0;32m   1321\u001b[0m answer \u001b[38;5;241m=\u001b[39m \u001b[38;5;28mself\u001b[39m\u001b[38;5;241m.\u001b[39mgateway_client\u001b[38;5;241m.\u001b[39msend_command(command)\n\u001b[1;32m-> 1322\u001b[0m return_value \u001b[38;5;241m=\u001b[39m get_return_value(\n\u001b[0;32m   1323\u001b[0m     answer, \u001b[38;5;28mself\u001b[39m\u001b[38;5;241m.\u001b[39mgateway_client, \u001b[38;5;28mself\u001b[39m\u001b[38;5;241m.\u001b[39mtarget_id, \u001b[38;5;28mself\u001b[39m\u001b[38;5;241m.\u001b[39mname)\n\u001b[0;32m   1325\u001b[0m \u001b[38;5;28;01mfor\u001b[39;00m temp_arg \u001b[38;5;129;01min\u001b[39;00m temp_args:\n\u001b[0;32m   1326\u001b[0m     \u001b[38;5;28;01mif\u001b[39;00m \u001b[38;5;28mhasattr\u001b[39m(temp_arg, \u001b[38;5;124m\"\u001b[39m\u001b[38;5;124m_detach\u001b[39m\u001b[38;5;124m\"\u001b[39m):\n",
      "File \u001b[1;32m~\\anaconda3\\Lib\\site-packages\\pyspark\\errors\\exceptions\\captured.py:175\u001b[0m, in \u001b[0;36mcapture_sql_exception.<locals>.deco\u001b[1;34m(*a, **kw)\u001b[0m\n\u001b[0;32m    171\u001b[0m converted \u001b[38;5;241m=\u001b[39m convert_exception(e\u001b[38;5;241m.\u001b[39mjava_exception)\n\u001b[0;32m    172\u001b[0m \u001b[38;5;28;01mif\u001b[39;00m \u001b[38;5;129;01mnot\u001b[39;00m \u001b[38;5;28misinstance\u001b[39m(converted, UnknownException):\n\u001b[0;32m    173\u001b[0m     \u001b[38;5;66;03m# Hide where the exception came from that shows a non-Pythonic\u001b[39;00m\n\u001b[0;32m    174\u001b[0m     \u001b[38;5;66;03m# JVM exception message.\u001b[39;00m\n\u001b[1;32m--> 175\u001b[0m     \u001b[38;5;28;01mraise\u001b[39;00m converted \u001b[38;5;28;01mfrom\u001b[39;00m \u001b[38;5;28;01mNone\u001b[39;00m\n\u001b[0;32m    176\u001b[0m \u001b[38;5;28;01melse\u001b[39;00m:\n\u001b[0;32m    177\u001b[0m     \u001b[38;5;28;01mraise\u001b[39;00m\n",
      "\u001b[1;31mIllegalArgumentException\u001b[0m: requirement failed: Column description must be of type numeric but was actually of type string."
     ]
    }
   ],
   "source": [
    "from pyspark.ml.feature import Imputer\n",
    "\n",
    "imputer = Imputer(strategy='mean', inputCols=['description'], outputCols=['description_imputed'])\n",
    "model = imputer.fit(books_data_df)\n",
    "df_imputed = model.transform(books_data_df)\n"
   ]
  },
  {
   "cell_type": "code",
   "execution_count": 9,
   "id": "fa0b2653-854d-4e57-9125-1b696db0b3b6",
   "metadata": {},
   "outputs": [
    {
     "name": "stdout",
     "output_type": "stream",
     "text": [
      "+-------+--------------------+--------------------+--------------------+-------------------+-----------+-------------------+------------------+--------------------+--------------------+--------------------+\n",
      "|summary|                  Id|               Title|               Price|            User_id|profileName| review/helpfulness|      review/score|         review/time|      review/summary|         review/text|\n",
      "+-------+--------------------+--------------------+--------------------+-------------------+-----------+-------------------+------------------+--------------------+--------------------+--------------------+\n",
      "|  count|             3000000|             2999792|              482421|            2437750|    2437800|            2999633|           2999870|             2999973|             2999935|             2999957|\n",
      "|   mean|1.0568515696607149E9|   2012.796651763537|  21.767951161877054|  18.29299003322259|        NaN|3.285048033703448E8| 1656.860421970827|1.1270533345949814E9|            Infinity|  9.95368319174848E8|\n",
      "| stddev| 1.284488524833734E9|  1536.7533549608797|   26.21155241772817|  21.99284402625621|        NaN| 5.46938050416698E8|1427549.9863179324|1.6715719402140123E8|                 NaN| 4.227222142880359E8|\n",
      "|    min|          0001047604|  \"\"\" Film technique|              \"\" and| \"\" Film acting \"\"\"|          \u001a|      #1 Bestse...\"|   & Algorithms\"\"\"| \"\"Cards of your ...| \"\"The Child Manu...|\u0011The Tao of Muham...|\n",
      "|    max|          B0064P287I|you can do anythi...|: A guide to loca...|      AZZZZW74AAX75|    ~~~~~~~|                 xo|         thersites|        sideshowmatt|~~~~~~~~~~~~~~~~~...|~~~~~~~~~~~~~~~~~...|\n",
      "+-------+--------------------+--------------------+--------------------+-------------------+-----------+-------------------+------------------+--------------------+--------------------+--------------------+\n",
      "\n"
     ]
    }
   ],
   "source": [
    "Books_rating_df.describe().show()"
   ]
  },
  {
   "cell_type": "code",
   "execution_count": null,
   "id": "0ba05a04-979c-4a1a-8432-8d18b073317c",
   "metadata": {},
   "outputs": [],
   "source": []
  }
 ],
 "metadata": {
  "kernelspec": {
   "display_name": "Python 3 (ipykernel)",
   "language": "python",
   "name": "python3"
  },
  "language_info": {
   "codemirror_mode": {
    "name": "ipython",
    "version": 3
   },
   "file_extension": ".py",
   "mimetype": "text/x-python",
   "name": "python",
   "nbconvert_exporter": "python",
   "pygments_lexer": "ipython3",
   "version": "3.11.7"
  }
 },
 "nbformat": 4,
 "nbformat_minor": 5
}
