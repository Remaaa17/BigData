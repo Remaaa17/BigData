{
 "cells": [
  {
   "cell_type": "code",
   "execution_count": 1,
   "id": "68fc05b4-c240-4197-9dc5-2d594a9dbf62",
   "metadata": {},
   "outputs": [
    {
     "name": "stdout",
     "output_type": "stream",
     "text": [
      "Connected to the database.\n",
      "Table 'matchs' created successfully.\n",
      "Data Insertion Failed: name 'csv_for_file' is not defined\n",
      "Database connection closed.\n"
     ]
    }
   ],
   "source": [
    "import psycopg2 as ps\n",
    "\n",
    "try:\n",
    "    # Establish a Database Connection\n",
    "    conn = ps.connect(\n",
    "        database=\"school\", user=\"postgres\", password=\"root\", host=\"127.0.0.1\", port=\"5433\"\n",
    "    )\n",
    "    print(\"Connected to the database.\")\n",
    "\n",
    "    # Create Table\n",
    "    try:\n",
    "        cur = conn.cursor()\n",
    "        cur.execute(\n",
    "            \"\"\"CREATE TABLE matchs\n",
    "                        ( \n",
    "                        CHAMPION_TYPE TEXT ,\n",
    "                        TEAM_A TEXT,\n",
    "                        TEAM_B TEXT,\n",
    "                        TIME TEXT,\n",
    "                        RESULT INTEGER)\"\"\"\n",
    "        )\n",
    "        print(\"Table 'matchs' created successfully.\")\n",
    "    except Exception as create_table_error:\n",
    "        print(f\"Table Creation Failed: {create_table_error}\")\n",
    "\n",
    "    # Insert Data into the Table\n",
    "    try:\n",
    "        cur.executemany(\n",
    "            '''INSERT INTO matchs (CHAMPION_TYPE, TEAM_A, TEAM_B, TIME, RESULT) VALUES (%s, %s, %s, %s, %s)''',\n",
    "            csv_for_file,\n",
    "        )\n",
    "        conn.commit()\n",
    "        print(\"Data inserted into 'matchs' successfully.\")\n",
    "    except Exception as insert_data_error:\n",
    "        print(f\"Data Insertion Failed: {insert_data_error}\")\n",
    "\n",
    "except Exception as connection_error:\n",
    "    print(f\"Connection Failed: {connection_error}\")\n",
    "\n",
    "finally:\n",
    "    # Close the Database Connection\n",
    "    if conn:\n",
    "        conn.close()\n",
    "        print(\"Database connection closed.\")\n"
   ]
  },
  {
   "cell_type": "code",
   "execution_count": 4,
   "id": "0c7325c7-9f65-449b-b075-2f48e66eeae9",
   "metadata": {},
   "outputs": [
    {
     "name": "stdout",
     "output_type": "stream",
     "text": [
      "Connected to the database.\n",
      "Table 'matchs' created successfully.\n",
      "Data Insertion Failed: name 'csv_for_file' is not defined\n",
      "Database connection closed.\n"
     ]
    }
   ],
   "source": [
    "import psycopg2 as ps\n",
    "\n",
    "try:\n",
    "    # Establish a Database Connection\n",
    "    conn = ps.connect(\n",
    "        database=\"school\", user=\"postgres\", password=\"root\", host=\"127.0.0.1\", port=\"5433\"\n",
    "    )\n",
    "    print(\"Connected to the database.\")\n",
    "\n",
    "    # Create Table\n",
    "    try:\n",
    "        cur = conn.cursor()\n",
    "        cur.execute(\n",
    "            \"\"\"CREATE TABLE matchs\n",
    "                        ( \n",
    "                        CHAMPION_TYPE TEXT ,\n",
    "                        TEAM_A TEXT,\n",
    "                        TEAM_B TEXT,\n",
    "                        TIME TEXT,\n",
    "                        RESULT INTEGER)\"\"\"\n",
    "        )\n",
    "        print(\"Table 'matchs' created successfully.\")\n",
    "    except Exception as create_table_error:\n",
    "        print(f\"Table Creation Failed: {create_table_error}\")\n",
    "\n",
    "    # Insert Data into the Table\n",
    "    try:\n",
    "        cur.executemany(\n",
    "            '''INSERT INTO matchs (CHAMPION_TYPE, TEAM_A, TEAM_B, TIME, RESULT) VALUES (%s, %s, %s, %s, %s)''',\n",
    "            csv_for_file,\n",
    "        )\n",
    "        conn.commit()\n",
    "        print(\"Data inserted into 'matchs' successfully.\")\n",
    "    except Exception as insert_data_error:\n",
    "        print(f\"Data Insertion Failed: {insert_data_error}\")\n",
    "\n",
    "except Exception as connection_error:\n",
    "    print(f\"Connection Failed: {connection_error}\")\n",
    "\n",
    "finally:\n",
    "    # Close the Database Connection\n",
    "    if conn:\n",
    "        conn.close()\n",
    "        print(\"Database connection closed.\")\n"
   ]
  },
  {
   "cell_type": "code",
   "execution_count": null,
   "id": "1da43bcd-27c9-4b73-ba39-ae20d1835349",
   "metadata": {},
   "outputs": [],
   "source": []
  }
 ],
 "metadata": {
  "kernelspec": {
   "display_name": "Python 3 (ipykernel)",
   "language": "python",
   "name": "python3"
  },
  "language_info": {
   "codemirror_mode": {
    "name": "ipython",
    "version": 3
   },
   "file_extension": ".py",
   "mimetype": "text/x-python",
   "name": "python",
   "nbconvert_exporter": "python",
   "pygments_lexer": "ipython3",
   "version": "3.11.7"
  }
 },
 "nbformat": 4,
 "nbformat_minor": 5
}
