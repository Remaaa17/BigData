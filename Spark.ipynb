{
 "cells": [
  {
   "cell_type": "code",
   "execution_count": 3,
   "id": "eb223ab8-497e-4459-b13f-aea3b25d98a6",
   "metadata": {},
   "outputs": [
    {
     "data": {
      "text/plain": [
       "'C:\\\\Users\\\\abdel\\\\anaconda3\\\\Lib\\\\site-packages\\\\pyspark'"
      ]
     },
     "execution_count": 3,
     "metadata": {},
     "output_type": "execute_result"
    }
   ],
   "source": [
    "import findspark\n",
    "findspark.init()\n",
    "findspark.find()"
   ]
  },
  {
   "cell_type": "code",
   "execution_count": 6,
   "id": "d712ecb1-f686-4ad8-b47b-95d092288c71",
   "metadata": {},
   "outputs": [],
   "source": [
    "from pyspark.sql import SparkSession"
   ]
  },
  {
   "cell_type": "code",
   "execution_count": 7,
   "id": "be8ed169-0a87-4f38-90f8-9d5cca8d64c4",
   "metadata": {},
   "outputs": [],
   "source": [
    "spark = SparkSession.builder. appName('SparkByExamples.com' ) . getOrCreate()"
   ]
  },
  {
   "cell_type": "code",
   "execution_count": 8,
   "id": "aeab34b7-9210-4150-9e37-8fcc332db246",
   "metadata": {},
   "outputs": [],
   "source": [
    "data = [(\"Java\", \"20000\"), (\"Python\", \"100000\"), (\"Scala\", \"3000\") ]"
   ]
  },
  {
   "cell_type": "code",
   "execution_count": 9,
   "id": "971ea006-5435-4376-acfd-5126c762ed3f",
   "metadata": {},
   "outputs": [],
   "source": [
    "columns = [\"language\", \"users_count\"]"
   ]
  },
  {
   "cell_type": "code",
   "execution_count": 10,
   "id": "e1c3faf6-4afb-4cbd-84e2-8eef88d4082e",
   "metadata": {},
   "outputs": [],
   "source": [
    "df = spark.createDataFrame(data) . toDF (*columns)"
   ]
  },
  {
   "cell_type": "code",
   "execution_count": 11,
   "id": "a8e52a18-2424-42d4-b6dd-58ae8c5f99fa",
   "metadata": {},
   "outputs": [
    {
     "name": "stdout",
     "output_type": "stream",
     "text": [
      "+--------+-----------+\n",
      "|language|users_count|\n",
      "+--------+-----------+\n",
      "|    Java|      20000|\n",
      "|  Python|     100000|\n",
      "|   Scala|       3000|\n",
      "+--------+-----------+\n",
      "\n"
     ]
    }
   ],
   "source": [
    "df. show()"
   ]
  }
 ],
 "metadata": {
  "kernelspec": {
   "display_name": "Python 3 (ipykernel)",
   "language": "python",
   "name": "python3"
  },
  "language_info": {
   "codemirror_mode": {
    "name": "ipython",
    "version": 3
   },
   "file_extension": ".py",
   "mimetype": "text/x-python",
   "name": "python",
   "nbconvert_exporter": "python",
   "pygments_lexer": "ipython3",
   "version": "3.11.7"
  }
 },
 "nbformat": 4,
 "nbformat_minor": 5
}
