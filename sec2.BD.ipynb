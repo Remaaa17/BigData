{
 "cells": [
  {
   "cell_type": "code",
   "execution_count": 1,
   "id": "01ad34a1-eed9-4d34-a5a4-cdc1fee58bb2",
   "metadata": {},
   "outputs": [],
   "source": [
    "import  psycopg2"
   ]
  },
  {
   "cell_type": "markdown",
   "id": "34b42aa6-41e2-43e5-8d37-24e7b00d8772",
   "metadata": {},
   "source": [
    "connect to the database\n"
   ]
  },
  {
   "cell_type": "code",
   "execution_count": 2,
   "id": "901f0ad3-4927-4f7a-a988-51c8a370d612",
   "metadata": {
    "scrolled": true
   },
   "outputs": [
    {
     "name": "stdout",
     "output_type": "stream",
     "text": [
      "Opened database successfully\n"
     ]
    }
   ],
   "source": [
    "conn = psycopg2.connect(database=\"company\", user=\"postgres\", password=\"root\", host = \"127.0.0.1\", port =\"5433\")\n",
    "print(\"Opened database successfully\")\n"
   ]
  },
  {
   "cell_type": "markdown",
   "id": "ac08083c-a41b-4d18-845e-79451aea92e9",
   "metadata": {},
   "source": [
    "create Table"
   ]
  },
  {
   "cell_type": "markdown",
   "id": "4b41ac10-36b6-4656-8596-cd40b6c4b62d",
   "metadata": {},
   "source": [
    "cur= conn.cursor()\n",
    "cur.execute('''CREATE TABLE EMPLOYEES\n",
    "(ID   INT        PRIMARY KEY,\n",
    " NAME       TEXT    NOT NULL,\n",
    " AGE        INT         NOT NULL,\n",
    " SALARY     REAL            );''')\n",
    "\n",
    "print(\"Table created successfully\")\n",
    "\n",
    "conn.commit()"
   ]
  },
  {
   "cell_type": "code",
   "execution_count": 34,
   "id": "3f1385c8-895d-41ab-a998-cadd025a0dbe",
   "metadata": {},
   "outputs": [
    {
     "name": "stdout",
     "output_type": "stream",
     "text": [
      "Records created successfully\n"
     ]
    }
   ],
   "source": [
    "conn = psycopg2.connect(database=\"company\", user=\"postgres\", password=\"root\", host = \"127.0.0.1\", port =\"5433\")\n",
    "cur= conn.cursor()\n",
    "cur.execute(\"INSERT INTO EMPLOYEES (ID,NAME,AGE,SALARY) VALUES (4, 'Mahnoud ', 36, 2000.00 )\");\n",
    "cur.execute(\"INSERT INTO EMPLOYEES (ID,NAME,AGE,SALARY) VALUES (5, 'Sara', 33, 3000.00 )\");\n",
    "cur.execute(\"INSERT INTO EMPLOYEES (ID,NAME,AGE,SALARY) VALUES (6, 'Eman',44, 4000.00 )\");\n",
    "conn.commit()\n",
    "print(\"Records created successfully\")"
   ]
  },
  {
   "cell_type": "code",
   "execution_count": 19,
   "id": "ca963aef-97ce-4fd5-a465-3188ff3c9d3e",
   "metadata": {
    "scrolled": true
   },
   "outputs": [
    {
     "name": "stdout",
     "output_type": "stream",
     "text": [
      "ID =  4\n",
      "NAME = Mahnoud \n",
      "SALARY =  2000.0 \n",
      "\n",
      "ID =  5\n",
      "NAME = Sara\n",
      "SALARY =  3000.0 \n",
      "\n",
      "ID =  6\n",
      "NAME = Eman\n",
      "SALARY =  4000.0 \n",
      "\n",
      "Operation done successfully\n"
     ]
    }
   ],
   "source": [
    "conn = psycopg2.connect(database=\"school\", user=\"postgres\", password=\"root\", host = \"127.0.0.1\", port =\"5433\")\n",
    "cur = conn.cursor()\n",
    "cur.execute(\"SELECT id, name,  salary from EMPLOYEES\")\n",
    "rows = cur.fetchall()\n",
    "for row in rows:\n",
    "    print(\"ID = \", row[0])\n",
    "    print(\"NAME =\", row[1])\n",
    "    print(\"SALARY = \", row[2], \"\\n\")\n",
    "print(\"Operation done successfully\")"
   ]
  },
  {
   "cell_type": "code",
   "execution_count": null,
   "id": "b691af6c-41be-4e8c-b01c-2a3f7a86cbaa",
   "metadata": {},
   "outputs": [],
   "source": []
  },
  {
   "cell_type": "code",
   "execution_count": 19,
   "id": "3e064290-3a48-4cd5-8fde-7c4c6394a58e",
   "metadata": {
    "scrolled": true
   },
   "outputs": [
    {
     "name": "stdout",
     "output_type": "stream",
     "text": [
      "ID =  4\n",
      "NAME = Mahnoud \n",
      "SALARY =  2000.0 \n",
      "\n",
      "ID =  5\n",
      "NAME = Sara\n",
      "SALARY =  3000.0 \n",
      "\n",
      "ID =  6\n",
      "NAME = Eman\n",
      "SALARY =  4000.0 \n",
      "\n",
      "Operation done successfully\n"
     ]
    }
   ],
   "source": [
    "conn = psycopg2.connect(database=\"school\", user=\"postgres\", password=\"root\", host = \"127.0.0.1\", port =\"5433\")\n",
    "cur = conn.cursor()\n",
    "cur.execute(\"SELECT id, name,  salary from EMPLOYEES\")\n",
    "rows = cur.fetchall()\n",
    "for row in rows:\n",
    "    print(\"ID = \", row[0])\n",
    "    print(\"NAME =\", row[1])\n",
    "    print(\"SALARY = \", row[2], \"\\n\")\n",
    "print(\"Operation done successfully\")"
   ]
  },
  {
   "cell_type": "code",
   "execution_count": 35,
   "id": "059e5b79-49f4-4c3a-9600-66ac94b0a808",
   "metadata": {},
   "outputs": [
    {
     "name": "stdout",
     "output_type": "stream",
     "text": [
      "ID = 4\n",
      "NAME = Mahnoud \n",
      "SALARY = 2000.0 \n",
      "\n",
      "ID = 5\n",
      "NAME = Sara\n",
      "SALARY = 3000.0 \n",
      "\n",
      "ID = 6\n",
      "NAME = Eman\n",
      "SALARY = 25000.0 \n",
      "\n",
      "Operation done successfully\n"
     ]
    }
   ],
   "source": [
    "conn = psycopg2.connect(database=\"company\", user=\"postgres\", password=\"root\", host = \"127.0.0.1\", port =\"5433\")\n",
    "cur=conn.cursor()\n",
    "cur.execute(\"UPDATE EMPLOYEES set SALARY = 25000.00 where ID=6 \")\n",
    "conn.commit()\n",
    "cur.execute(\"SELECT id, name,  salary from EMPLOYEES\")\n",
    "rows = cur.fetchall()\n",
    "for row in rows:\n",
    "    print(\"ID =\", row[0])\n",
    "    print(\"NAME =\", row[1])\n",
    "    print(\"SALARY =\", row[2], \"\\n\")\n",
    "print(\"Operation done successfully\")"
   ]
  },
  {
   "cell_type": "code",
   "execution_count": 36,
   "id": "09bdd1be-f654-4495-a19a-b486de73c620",
   "metadata": {},
   "outputs": [
    {
     "name": "stdout",
     "output_type": "stream",
     "text": [
      "Total number of rows deleted : 1\n",
      "ID= 5\n",
      "NAME= Sara\n",
      "SALARY = 3000.0 \n",
      "\n",
      "ID= 6\n",
      "NAME= Eman\n",
      "SALARY = 25000.0 \n",
      "\n",
      "Operation done successfully\n"
     ]
    }
   ],
   "source": [
    "conn = psycopg2.connect(database=\"company\", user=\"postgres\", password=\"root\", host = \"127.0.0.1\", port =\"5433\")\n",
    "cur=conn.cursor()\n",
    "cur.execute(\"DELETE  from EMPLOYEES where  ID=4;\")\n",
    "conn.commit()\n",
    "print(\"Total number of rows deleted :\", cur.rowcount)\n",
    "cur.execute(\"SELECT id, name, salary from EMPLOYEES\")\n",
    "rows= cur.fetchall()\n",
    "for row in rows:\n",
    "    print(\"ID=\" ,row[0])\n",
    "    print(\"NAME=\",row[1])\n",
    "    print(\"SALARY =\", row[2], \"\\n\")\n",
    "print(\"Operation done successfully\")"
   ]
  },
  {
   "cell_type": "code",
   "execution_count": 5,
   "id": "f49f1f7c-fccc-454e-94b6-b310023a0e0f",
   "metadata": {},
   "outputs": [
    {
     "name": "stdout",
     "output_type": "stream",
     "text": [
      "Opened database successfully\n"
     ]
    },
    {
     "ename": "DuplicateTable",
     "evalue": "relation \"tablea\" already exists\n",
     "output_type": "error",
     "traceback": [
      "\u001b[1;31m---------------------------------------------------------------------------\u001b[0m",
      "\u001b[1;31mDuplicateTable\u001b[0m                            Traceback (most recent call last)",
      "Cell \u001b[1;32mIn[5], line 10\u001b[0m\n\u001b[0;32m      7\u001b[0m cur \u001b[38;5;241m=\u001b[39m conn\u001b[38;5;241m.\u001b[39mcursor()\n\u001b[0;32m      9\u001b[0m \u001b[38;5;66;03m# Example: Create TableA\u001b[39;00m\n\u001b[1;32m---> 10\u001b[0m cur\u001b[38;5;241m.\u001b[39mexecute(\u001b[38;5;124m'''\u001b[39m\n\u001b[0;32m     11\u001b[0m \u001b[38;5;124m    CREATE TABLE TableA (\u001b[39m\n\u001b[0;32m     12\u001b[0m \u001b[38;5;124m        id serial PRIMARY KEY,\u001b[39m\n\u001b[0;32m     13\u001b[0m \u001b[38;5;124m        name VARCHAR(255) NOT NULL\u001b[39m\n\u001b[0;32m     14\u001b[0m \u001b[38;5;124m    )\u001b[39m\n\u001b[0;32m     15\u001b[0m \u001b[38;5;124m'''\u001b[39m)\n\u001b[0;32m     17\u001b[0m \u001b[38;5;66;03m# Example: Create TableB with a foreign key reference to TableA\u001b[39;00m\n\u001b[0;32m     18\u001b[0m cur\u001b[38;5;241m.\u001b[39mexecute(\u001b[38;5;124m'''\u001b[39m\n\u001b[0;32m     19\u001b[0m \u001b[38;5;124m    CREATE TABLE TableB (\u001b[39m\n\u001b[0;32m     20\u001b[0m \u001b[38;5;124m        id serial PRIMARY KEY,\u001b[39m\n\u001b[1;32m   (...)\u001b[0m\n\u001b[0;32m     23\u001b[0m \u001b[38;5;124m    )\u001b[39m\n\u001b[0;32m     24\u001b[0m \u001b[38;5;124m'''\u001b[39m)\n",
      "\u001b[1;31mDuplicateTable\u001b[0m: relation \"tablea\" already exists\n"
     ]
    }
   ],
   "source": [
    "import psycopg2\n",
    "\n",
    "conn = psycopg2.connect(database=\"company\", user=\"postgres\", password=\"root\", host = \"127.0.0.1\", port =\"5433\")\n",
    "print(\"Opened database successfully\")\n",
    "\n",
    "# Create a cursor object to execute SQL commands\n",
    "cur = conn.cursor()\n",
    "\n",
    "# Create TableA\n",
    "cur.execute('''\n",
    "    CREATE TABLE TableA (\n",
    "        id serial PRIMARY KEY,\n",
    "        name VARCHAR(255) NOT NULL\n",
    "    )\n",
    "''')\n",
    "\n",
    "# Create TableB with a foreign key reference to TableA\n",
    "cur.execute('''\n",
    "    CREATE TABLE TableB (\n",
    "        id serial PRIMARY KEY,\n",
    "        tablea_id INTEGER REFERENCES TableA(id),\n",
    "        value VARCHAR(255) NOT NULL\n",
    "    )\n",
    "''')\n",
    "\n",
    "\n",
    "conn.commit()\n",
    "cur.close()\n",
    "conn.close()\n"
   ]
  },
  {
   "cell_type": "code",
   "execution_count": null,
   "id": "a114325b-a78b-45de-8694-d085178ac858",
   "metadata": {},
   "outputs": [],
   "source": []
  }
 ],
 "metadata": {
  "kernelspec": {
   "display_name": "Python 3 (ipykernel)",
   "language": "python",
   "name": "python3"
  },
  "language_info": {
   "codemirror_mode": {
    "name": "ipython",
    "version": 3
   },
   "file_extension": ".py",
   "mimetype": "text/x-python",
   "name": "python",
   "nbconvert_exporter": "python",
   "pygments_lexer": "ipython3",
   "version": "3.11.7"
  }
 },
 "nbformat": 4,
 "nbformat_minor": 5
}
