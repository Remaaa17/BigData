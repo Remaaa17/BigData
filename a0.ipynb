{
 "cells": [
  {
   "cell_type": "code",
   "execution_count": 3,
   "id": "9f72443d-d9d4-46ac-98bc-49dff40f1250",
   "metadata": {},
   "outputs": [],
   "source": [
    "from pyspark.sql import SparkSession\n",
    "\n",
    "spark = SparkSession.builder.appName(\"Datacamp Pyspark Tutorial\")\\\n",
    ".config(\"spark.memory.offHeap. enabled\", \"true\") . config(\"spark.memory.offHeap. size\", \"10g\") \\\n",
    ".getOrCreate()"
   ]
  },
  {
   "cell_type": "code",
   "execution_count": 15,
   "id": "cfd27523-d55a-4bf3-99b5-a3ca4915ac01",
   "metadata": {
    "scrolled": true
   },
   "outputs": [
    {
     "name": "stdout",
     "output_type": "stream",
     "text": [
      "+---+------+--------------+--------------+---------------+--------------------------+-----------+--------+---------+--------+------+---------+----+\n",
      "|Age|Gender|Marital Status|    Occupation| Monthly Income|Educational Qualifications|Family size|latitude|longitude|Pin code|Output| Feedback|_c12|\n",
      "+---+------+--------------+--------------+---------------+--------------------------+-----------+--------+---------+--------+------+---------+----+\n",
      "| 20|Female|        Single|       Student|      No Income|             Post Graduate|          4| 12.9766|  77.5993|  560001|   Yes| Positive| Yes|\n",
      "| 24|Female|        Single|       Student| Below Rs.10000|                  Graduate|          3|  12.977|  77.5773|  560009|   Yes| Positive| Yes|\n",
      "| 22|  Male|        Single|       Student| Below Rs.10000|             Post Graduate|          3| 12.9551|  77.6593|  560017|   Yes|Negative | Yes|\n",
      "| 22|Female|        Single|       Student|      No Income|                  Graduate|          6| 12.9473|  77.5616|  560019|   Yes| Positive| Yes|\n",
      "| 22|  Male|        Single|       Student| Below Rs.10000|             Post Graduate|          4|  12.985|  77.5533|  560010|   Yes| Positive| Yes|\n",
      "| 27|Female|       Married|      Employee|More than 50000|             Post Graduate|          2| 12.9299|  77.6848|  560103|   Yes| Positive| Yes|\n",
      "| 22|  Male|        Single|       Student|      No Income|                  Graduate|          3|  12.977|  77.5773|  560009|   Yes| Positive| Yes|\n",
      "| 24|Female|        Single|       Student|      No Income|             Post Graduate|          3| 12.9828|  77.6131|  560042|   Yes| Positive| Yes|\n",
      "| 23|Female|        Single|       Student|      No Income|             Post Graduate|          2| 12.9766|  77.5993|  560001|   Yes| Positive| Yes|\n",
      "| 23|Female|        Single|       Student|      No Income|             Post Graduate|          4| 12.9854|  77.7081|  560048|   Yes| Positive| Yes|\n",
      "| 22|Female|        Single|       Student|      No Income|             Post Graduate|          5|  12.985|  77.5533|  560010|   Yes| Positive| Yes|\n",
      "| 23|  Male|        Single|       Student| Below Rs.10000|             Post Graduate|          2|  12.977|  77.5773|  560009|   Yes|Negative | Yes|\n",
      "| 23|  Male|        Single|       Student|      No Income|             Post Graduate|          5| 12.8988|  77.5764|  560078|   Yes| Positive| Yes|\n",
      "| 21|  Male|        Single|       Student|      No Income|                  Graduate|          4|  12.977|  77.5773|  560009|   Yes| Positive| Yes|\n",
      "| 23|Female|        Single|Self Employeed| 10001 to 25000|             Post Graduate|          5| 12.9438|  77.5738|  560004|   Yes| Positive| Yes|\n",
      "| 24|Female|        Single|       Student|      No Income|             Post Graduate|          6| 12.8893|  77.6399|  560068|   Yes| Positive| Yes|\n",
      "| 28|Female|        Single|      Employee| 25001 to 50000|             Post Graduate|          2| 12.9783|  77.6408|  560038|   Yes| Positive| Yes|\n",
      "| 23|Female|        Single|       Student|      No Income|                  Graduate|          3|  12.982|  77.6256|  560008|   Yes|Negative | Yes|\n",
      "| 25|  Male|        Single|       Student|      No Income|                  Graduate|          4| 12.8988|  77.5764|  560078|   Yes|Negative | Yes|\n",
      "| 21|Female|        Single|       Student| Below Rs.10000|             Post Graduate|          1| 12.9783|  77.6408|  560038|   Yes| Positive| Yes|\n",
      "| 24|  Male|        Single|       Student|      No Income|             Post Graduate|          3|  12.977|  77.5773|  560009|   Yes| Positive| Yes|\n",
      "| 22|  Male|        Single|       Student|      No Income|             Post Graduate|          4| 13.0298|  77.6047|  560032|   Yes| Positive| Yes|\n",
      "| 22|Female|        Single|       Student|      No Income|                  Graduate|          4| 12.9983|  77.6409|  560033|   Yes| Positive| Yes|\n",
      "| 23|  Male|        Single|       Student|      No Income|                  Graduate|          4| 12.9925|  77.5633|  560021|   Yes| Positive| Yes|\n",
      "| 21|  Male|        Single|       Student| Below Rs.10000|             Post Graduate|          3| 12.9306|  77.5434|  560085|   Yes| Positive| Yes|\n",
      "| 25|  Male|        Single|       Student|      No Income|             Post Graduate|          3|  12.982|  77.6256|  560008|   Yes| Positive| Yes|\n",
      "| 22|Female|        Single|       Student|      No Income|             Post Graduate|          5| 12.9353|  77.5585|  560050|   Yes| Positive| Yes|\n",
      "| 22|  Male|        Single|       Student|      No Income|             Post Graduate|          3| 12.9155|  77.5135|  560098|   Yes| Positive| Yes|\n",
      "| 23|Female|        Single|      Employee| 10001 to 25000|                  Graduate|          3| 12.9854|  77.7081|  560048|   Yes| Positive| Yes|\n",
      "| 22|  Male|        Single|       Student| Below Rs.10000|             Post Graduate|          4| 13.0019|  77.5713|  560003|   Yes| Positive| Yes|\n",
      "+---+------+--------------+--------------+---------------+--------------------------+-----------+--------+---------+--------+------+---------+----+\n",
      "only showing top 30 rows\n",
      "\n"
     ]
    }
   ],
   "source": [
    "from pyspark.sql import SparkSession\n",
    "\n",
    "# Create a Spark session\n",
    "spark = SparkSession.builder.appName(\"Datacamp Pyspark Tutorial\").getOrCreate()\n",
    "\n",
    "# Define the file path\n",
    "file_path = r\"C:\\Users\\abdel\\Downloads\\onlinefoods.csv\"\n",
    "\n",
    "# Read the CSV file into a DataFrame\n",
    "df = spark.read.csv(file_path, header=True, inferSchema=True)\n",
    "\n",
    "# Show the first 30 rows of the DataFrame\n",
    "df.show(30)\n",
    "\n"
   ]
  },
  {
   "cell_type": "code",
   "execution_count": 13,
   "id": "ff5d666a-0dd7-4c70-be6d-9a98b0768f79",
   "metadata": {},
   "outputs": [
    {
     "name": "stdout",
     "output_type": "stream",
     "text": [
      "root\n",
      " |-- Age: integer (nullable = true)\n",
      " |-- Gender: string (nullable = true)\n",
      " |-- Marital Status: string (nullable = true)\n",
      " |-- Occupation: string (nullable = true)\n",
      " |-- Monthly Income: string (nullable = true)\n",
      " |-- Educational Qualifications: string (nullable = true)\n",
      " |-- Family size: integer (nullable = true)\n",
      " |-- latitude: double (nullable = true)\n",
      " |-- longitude: double (nullable = true)\n",
      " |-- Pin code: integer (nullable = true)\n",
      " |-- Output: string (nullable = true)\n",
      " |-- Feedback: string (nullable = true)\n",
      " |-- _c12: string (nullable = true)\n",
      " |-- Customer_id: long (nullable = false)\n",
      "\n"
     ]
    },
    {
     "data": {
      "text/plain": [
       "388"
      ]
     },
     "execution_count": 13,
     "metadata": {},
     "output_type": "execute_result"
    }
   ],
   "source": [
    "df.printSchema()\n"
   ]
  },
  {
   "cell_type": "code",
   "execution_count": 5,
   "id": "8e326f54-a113-49d4-8f80-039c3174c7d5",
   "metadata": {},
   "outputs": [
    {
     "name": "stdout",
     "output_type": "stream",
     "text": [
      "+-------+------------------+------------------+--------------------+------------------+------------------+\n",
      "|summary|               Age|       Family size|            latitude|         longitude|          Pin code|\n",
      "+-------+------------------+------------------+--------------------+------------------+------------------+\n",
      "|  count|               388|               388|                 388|               388|               388|\n",
      "|   mean|24.628865979381445|3.2809278350515463|  12.972057989690706| 77.60015953608251| 560040.1134020619|\n",
      "| stddev| 2.975592660672904|1.3510249396453127|0.044489248628105924|0.0513539170127217|31.399608710261372|\n",
      "|    min|                18|                 1|             12.8652|           77.4842|            560001|\n",
      "|    max|                33|                 6|              13.102|           77.7582|            560109|\n",
      "+-------+------------------+------------------+--------------------+------------------+------------------+\n",
      "\n"
     ]
    }
   ],
   "source": [
    "# Summary statistics for numerical columns\n",
    "df.describe(['Age', 'Family size', 'latitude', 'longitude', 'Pin code']).show()\n"
   ]
  },
  {
   "cell_type": "code",
   "execution_count": 17,
   "id": "2962c163-1bec-40ca-8561-bbb43490a3cc",
   "metadata": {},
   "outputs": [
    {
     "name": "stdout",
     "output_type": "stream",
     "text": [
      "+---+------+--------------+--------------+---------------+--------------------------+-----------+--------+---------+--------+------+---------+\n",
      "|Age|Gender|Marital Status|    Occupation| Monthly Income|Educational Qualifications|Family size|latitude|longitude|Pin code|Output| Feedback|\n",
      "+---+------+--------------+--------------+---------------+--------------------------+-----------+--------+---------+--------+------+---------+\n",
      "| 20|Female|        Single|       Student|      No Income|             Post Graduate|          4| 12.9766|  77.5993|  560001|   Yes| Positive|\n",
      "| 24|Female|        Single|       Student| Below Rs.10000|                  Graduate|          3|  12.977|  77.5773|  560009|   Yes| Positive|\n",
      "| 22|  Male|        Single|       Student| Below Rs.10000|             Post Graduate|          3| 12.9551|  77.6593|  560017|   Yes|Negative |\n",
      "| 22|Female|        Single|       Student|      No Income|                  Graduate|          6| 12.9473|  77.5616|  560019|   Yes| Positive|\n",
      "| 22|  Male|        Single|       Student| Below Rs.10000|             Post Graduate|          4|  12.985|  77.5533|  560010|   Yes| Positive|\n",
      "| 27|Female|       Married|      Employee|More than 50000|             Post Graduate|          2| 12.9299|  77.6848|  560103|   Yes| Positive|\n",
      "| 22|  Male|        Single|       Student|      No Income|                  Graduate|          3|  12.977|  77.5773|  560009|   Yes| Positive|\n",
      "| 24|Female|        Single|       Student|      No Income|             Post Graduate|          3| 12.9828|  77.6131|  560042|   Yes| Positive|\n",
      "| 23|Female|        Single|       Student|      No Income|             Post Graduate|          2| 12.9766|  77.5993|  560001|   Yes| Positive|\n",
      "| 23|Female|        Single|       Student|      No Income|             Post Graduate|          4| 12.9854|  77.7081|  560048|   Yes| Positive|\n",
      "| 22|Female|        Single|       Student|      No Income|             Post Graduate|          5|  12.985|  77.5533|  560010|   Yes| Positive|\n",
      "| 23|  Male|        Single|       Student| Below Rs.10000|             Post Graduate|          2|  12.977|  77.5773|  560009|   Yes|Negative |\n",
      "| 23|  Male|        Single|       Student|      No Income|             Post Graduate|          5| 12.8988|  77.5764|  560078|   Yes| Positive|\n",
      "| 21|  Male|        Single|       Student|      No Income|                  Graduate|          4|  12.977|  77.5773|  560009|   Yes| Positive|\n",
      "| 23|Female|        Single|Self Employeed| 10001 to 25000|             Post Graduate|          5| 12.9438|  77.5738|  560004|   Yes| Positive|\n",
      "| 24|Female|        Single|       Student|      No Income|             Post Graduate|          6| 12.8893|  77.6399|  560068|   Yes| Positive|\n",
      "| 28|Female|        Single|      Employee| 25001 to 50000|             Post Graduate|          2| 12.9783|  77.6408|  560038|   Yes| Positive|\n",
      "| 23|Female|        Single|       Student|      No Income|                  Graduate|          3|  12.982|  77.6256|  560008|   Yes|Negative |\n",
      "| 25|  Male|        Single|       Student|      No Income|                  Graduate|          4| 12.8988|  77.5764|  560078|   Yes|Negative |\n",
      "| 21|Female|        Single|       Student| Below Rs.10000|             Post Graduate|          1| 12.9783|  77.6408|  560038|   Yes| Positive|\n",
      "+---+------+--------------+--------------+---------------+--------------------------+-----------+--------+---------+--------+------+---------+\n",
      "only showing top 20 rows\n",
      "\n"
     ]
    }
   ],
   "source": [
    "df=df.drop(\"_c12\")\n",
    "df.show()"
   ]
  },
  {
   "cell_type": "code",
   "execution_count": 8,
   "id": "7f753d98-a977-4c5e-a3db-98e4bc910409",
   "metadata": {},
   "outputs": [
    {
     "name": "stdout",
     "output_type": "stream",
     "text": [
      "+---------+-----+\n",
      "| Feedback|count|\n",
      "+---------+-----+\n",
      "|Negative |   71|\n",
      "| Positive|  317|\n",
      "+---------+-----+\n",
      "\n"
     ]
    }
   ],
   "source": [
    "education_distribution = df.groupBy('Feedback').count().orderBy('Feedback')\n",
    "education_distribution.show()"
   ]
  },
  {
   "cell_type": "code",
   "execution_count": 9,
   "id": "49267336-c1f7-4bd3-bcc5-89630c36208b",
   "metadata": {},
   "outputs": [
    {
     "name": "stdout",
     "output_type": "stream",
     "text": [
      "Gender Counts:\n",
      "+------+-----+\n",
      "|Gender|count|\n",
      "+------+-----+\n",
      "|Female|  166|\n",
      "|  Male|  222|\n",
      "+------+-----+\n",
      "\n",
      "Marital Status Counts:\n",
      "+-----------------+-----+\n",
      "|   Marital Status|count|\n",
      "+-----------------+-----+\n",
      "|Prefer not to say|   12|\n",
      "|          Married|  108|\n",
      "|           Single|  268|\n",
      "+-----------------+-----+\n",
      "\n"
     ]
    }
   ],
   "source": [
    "# Group by gender and count the number of occurrences\n",
    "gender_counts = df.groupBy('Gender').count()\n",
    "\n",
    "# Group by marital status and count the number of occurrences\n",
    "marital_counts = df.groupBy('Marital Status').count()\n",
    "\n",
    "# Show gender and marital status counts\n",
    "print(\"Gender Counts:\")\n",
    "gender_counts.show()\n",
    "print(\"Marital Status Counts:\")\n",
    "marital_counts.show()\n"
   ]
  },
  {
   "cell_type": "code",
   "execution_count": 10,
   "id": "f780679b-f802-4b6b-b3ca-530b480afeaa",
   "metadata": {
    "scrolled": true
   },
   "outputs": [
    {
     "name": "stdout",
     "output_type": "stream",
     "text": [
      "+---------------+-----+\n",
      "| Monthly Income|count|\n",
      "+---------------+-----+\n",
      "| 10001 to 25000|   45|\n",
      "| 25001 to 50000|   69|\n",
      "| Below Rs.10000|   25|\n",
      "|More than 50000|   62|\n",
      "|      No Income|  187|\n",
      "+---------------+-----+\n",
      "\n",
      "+-----------+-----+\n",
      "|IncomeGroup|count|\n",
      "+-----------+-----+\n",
      "|      100k+|  388|\n",
      "+-----------+-----+\n",
      "\n"
     ]
    }
   ],
   "source": [
    "from pyspark.sql.functions import col, when\n",
    "# Income level distribution analysis\n",
    "income_distribution = df.groupBy('Monthly Income').count().orderBy('Monthly Income')\n",
    "income_distribution.show()\n",
    "\n",
    "# Income level categorization\n",
    "income_bins = [0, 20000, 40000, 60000, 80000, 100000]\n",
    "income_labels = ['0-20k', '20k-40k', '40k-60k', '60k-80k', '80k-100k+']\n",
    "\n",
    "df_income_group = df.withColumn('IncomeGroup', \n",
    "    when(col('Monthly Income').isNull(), 'Unknown')\n",
    "    .otherwise(when(col('Monthly Income') <= 20000, '0-20k')\n",
    "    .when(col('Monthly Income') <= 40000, '20k-40k')\n",
    "    .when(col('Monthly Income') <= 60000, '40k-60k')\n",
    "    .when(col('Monthly Income') <= 80000, '60k-80k')\n",
    "    .when(col('Monthly Income') <= 100000, '80k-100k+')\n",
    "    .otherwise('100k+'))\n",
    ")\n",
    "\n",
    "# Count of customers in each income group\n",
    "income_group_counts = df_income_group.groupBy('IncomeGroup').count().orderBy('IncomeGroup')\n",
    "income_group_counts.show()\n"
   ]
  },
  {
   "cell_type": "code",
   "execution_count": 11,
   "id": "ea530c5e-950b-43fe-8c43-6c3e01227b9c",
   "metadata": {},
   "outputs": [
    {
     "name": "stdout",
     "output_type": "stream",
     "text": [
      "+---+-----+\n",
      "|Age|count|\n",
      "+---+-----+\n",
      "| 18|    1|\n",
      "| 19|    4|\n",
      "| 20|    9|\n",
      "| 21|   23|\n",
      "| 22|   57|\n",
      "| 23|   73|\n",
      "| 24|   50|\n",
      "| 25|   52|\n",
      "| 26|   35|\n",
      "| 27|   21|\n",
      "| 28|   15|\n",
      "| 29|   14|\n",
      "| 30|    9|\n",
      "| 31|    8|\n",
      "| 32|   16|\n",
      "| 33|    1|\n",
      "+---+-----+\n",
      "\n",
      "+--------+-----+\n",
      "|AgeGroup|count|\n",
      "+--------+-----+\n",
      "|   18-25|  269|\n",
      "|   26-35|  119|\n",
      "+--------+-----+\n",
      "\n"
     ]
    }
   ],
   "source": [
    "# Age distribution analysis\n",
    "age_distribution = df.groupBy('Age').count().orderBy('Age')\n",
    "age_distribution.show()\n",
    "\n",
    "# Age group categorization\n",
    "from pyspark.sql.functions import when\n",
    "\n",
    "df_age_group = df.withColumn('AgeGroup',\n",
    "    when(col('Age').between(18, 25), '18-25')\n",
    "    .when(col('Age').between(26, 35), '26-35')\n",
    "    .when(col('Age').between(36, 45), '36-45')\n",
    "    .otherwise('46+')\n",
    ")\n",
    "\n",
    "# Count of customers in each age group\n",
    "age_group_counts = df_age_group.groupBy('AgeGroup').count().orderBy('AgeGroup')\n",
    "age_group_counts.show()\n"
   ]
  },
  {
   "cell_type": "code",
   "execution_count": 12,
   "id": "8e72b96a-e13b-4d05-b0d1-329bb2c30ea2",
   "metadata": {},
   "outputs": [
    {
     "name": "stdout",
     "output_type": "stream",
     "text": [
      "+--------------------------+-----+\n",
      "|Educational Qualifications|count|\n",
      "+--------------------------+-----+\n",
      "|                  Graduate|  177|\n",
      "|                      Ph.D|   23|\n",
      "|             Post Graduate|  174|\n",
      "|                    School|   12|\n",
      "|                Uneducated|    2|\n",
      "+--------------------------+-----+\n",
      "\n"
     ]
    }
   ],
   "source": [
    "# Education level distribution analysis\n",
    "education_distribution = df.groupBy('Educational Qualifications').count().orderBy('Educational Qualifications')\n",
    "education_distribution.show()\n"
   ]
  },
  {
   "cell_type": "code",
   "execution_count": null,
   "id": "391aa3ba-67f2-45f7-87ea-53defd9f4923",
   "metadata": {},
   "outputs": [],
   "source": []
  }
 ],
 "metadata": {
  "kernelspec": {
   "display_name": "Python 3 (ipykernel)",
   "language": "python",
   "name": "python3"
  },
  "language_info": {
   "codemirror_mode": {
    "name": "ipython",
    "version": 3
   },
   "file_extension": ".py",
   "mimetype": "text/x-python",
   "name": "python",
   "nbconvert_exporter": "python",
   "pygments_lexer": "ipython3",
   "version": "3.11.7"
  }
 },
 "nbformat": 4,
 "nbformat_minor": 5
}
