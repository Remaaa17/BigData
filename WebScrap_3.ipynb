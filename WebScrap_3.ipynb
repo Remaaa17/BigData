{
 "cells": [
  {
   "cell_type": "code",
   "execution_count": 1,
   "id": "641f9019-fa0e-4e79-af62-23a7255e8f71",
   "metadata": {},
   "outputs": [
    {
     "name": "stdout",
     "output_type": "stream",
     "text": [
      "JSON file downloaded and saved to downloaded_data.json\n"
     ]
    }
   ],
   "source": [
    "import requests\n",
    "import json\n",
    "\n",
    "# URL of the JSON file you want to download\n",
    "json_url = \"https://data.cdc.gov/api/views/9j2v-jamp/rows.json?accessType=DOWNLOAD\"\n",
    "\n",
    "# Make an HTTP request to get the JSON data\n",
    "response = requests.get(json_url)\n",
    "\n",
    "# Check if the request was successful (status code 200)\n",
    "if response.status_code == 200:\n",
    "    # Parse the JSON data\n",
    "    json_data = response.json()\n",
    "\n",
    "    # Specify the local file path to save the JSON data\n",
    "    local_file_path = \"downloaded_data.json\"\n",
    "\n",
    "    # Save the JSON data to the local file\n",
    "    with open(local_file_path, \"w\") as file:\n",
    "        json.dump(json_data, file)\n",
    "\n",
    "    print(f\"JSON file downloaded and saved to {local_file_path}\")\n",
    "else:\n",
    "    print(f\"Failed to download JSON file. Status code: {response.status_code}\")\n",
    "\n"
   ]
  },
  {
   "cell_type": "code",
   "execution_count": 3,
   "id": "578778ea-74a6-4f28-a485-35858c9c0217",
   "metadata": {},
   "outputs": [
    {
     "name": "stdout",
     "output_type": "stream",
     "text": [
      "Death_Reats DataFrame:\n",
      "                                                data meta.view.id  \\\n",
      "0  [[row-sj5k-g243-v6cb, 00000000-0000-0000-ED82-...    9j2v-jamp   \n",
      "\n",
      "                                      meta.view.name meta.view.assetType  \\\n",
      "0  Death rates for suicide, by sex, race, Hispani...             dataset   \n",
      "\n",
      "  meta.view.attribution  meta.view.averageRating meta.view.category  \\\n",
      "0              NCHS/DAE                        0               NCHS   \n",
      "\n",
      "   meta.view.createdAt                              meta.view.description  \\\n",
      "0           1621025970  Data on death rates for suicide, by selected p...   \n",
      "\n",
      "  meta.view.displayType  ...  meta.view.tableAuthor.id  \\\n",
      "0                 table  ...                 ki96-txhe   \n",
      "\n",
      "   meta.view.tableAuthor.displayName  \\\n",
      "0                               NCHS   \n",
      "\n",
      "   meta.view.tableAuthor.profileImageUrlLarge  \\\n",
      "0   /api/users/ki96-txhe/profile_images/LARGE   \n",
      "\n",
      "  meta.view.tableAuthor.profileImageUrlMedium  \\\n",
      "0   /api/users/ki96-txhe/profile_images/THUMB   \n",
      "\n",
      "   meta.view.tableAuthor.profileImageUrlSmall  \\\n",
      "0    /api/users/ki96-txhe/profile_images/TINY   \n",
      "\n",
      "   meta.view.tableAuthor.screenName  meta.view.tableAuthor.type  \\\n",
      "0                              NCHS                 interactive   \n",
      "\n",
      "           meta.view.tableAuthor.flags  \\\n",
      "0  [acceptedEula, mayBeStoriesCoOwner]   \n",
      "\n",
      "                                      meta.view.tags  \\\n",
      "0  [deaths, suicide, injury, mental health, alask...   \n",
      "\n",
      "                                     meta.view.flags  \n",
      "0  [default, ownerMayBeContacted, restorable, res...  \n",
      "\n",
      "[1 rows x 68 columns]\n"
     ]
    }
   ],
   "source": [
    "import pandas as pd\n",
    "import json\n",
    "\n",
    "# Extract data from the first JSON file (user profiles)\n",
    "with open(\"downloaded_data.json\") as file:\n",
    "    Death_RatesForSuicide_data = json.load(file)\n",
    "\n",
    "profiles_df = pd.json_normalize( Death_RatesForSuicide_data)\n",
    "\n",
    "# Display the initial structure of the profiles data\n",
    "print(\"Death_Reats DataFrame:\")\n",
    "print(profiles_df.head())\n",
    "\n",
    "\n"
   ]
  },
  {
   "cell_type": "code",
   "execution_count": 4,
   "id": "9aa8fc40-d7d0-48fa-82e9-5e58cae365cf",
   "metadata": {},
   "outputs": [
    {
     "name": "stdout",
     "output_type": "stream",
     "text": [
      "Death_Rates DataFrame:\n",
      "                                                data meta.view.id  \\\n",
      "0  [[row-sj5k-g243-v6cb, 00000000-0000-0000-ED82-...    9j2v-jamp   \n",
      "\n",
      "                                      meta.view.name meta.view.assetType  \\\n",
      "0  Death rates for suicide, by sex, race, Hispani...             dataset   \n",
      "\n",
      "  meta.view.attribution  meta.view.averageRating meta.view.category  \\\n",
      "0              NCHS/DAE                        0               NCHS   \n",
      "\n",
      "   meta.view.createdAt                              meta.view.description  \\\n",
      "0           1621025970  Data on death rates for suicide, by selected p...   \n",
      "\n",
      "  meta.view.displayType  ...  meta.view.tableAuthor.id  \\\n",
      "0                 table  ...                 ki96-txhe   \n",
      "\n",
      "   meta.view.tableAuthor.displayName  \\\n",
      "0                               NCHS   \n",
      "\n",
      "   meta.view.tableAuthor.profileImageUrlLarge  \\\n",
      "0   /api/users/ki96-txhe/profile_images/LARGE   \n",
      "\n",
      "  meta.view.tableAuthor.profileImageUrlMedium  \\\n",
      "0   /api/users/ki96-txhe/profile_images/THUMB   \n",
      "\n",
      "   meta.view.tableAuthor.profileImageUrlSmall  \\\n",
      "0    /api/users/ki96-txhe/profile_images/TINY   \n",
      "\n",
      "   meta.view.tableAuthor.screenName  meta.view.tableAuthor.type  \\\n",
      "0                              NCHS                 interactive   \n",
      "\n",
      "           meta.view.tableAuthor.flags  \\\n",
      "0  [acceptedEula, mayBeStoriesCoOwner]   \n",
      "\n",
      "                                      meta.view.tags  \\\n",
      "0  [deaths, suicide, injury, mental health, alask...   \n",
      "\n",
      "                                     meta.view.flags  \n",
      "0  [default, ownerMayBeContacted, restorable, res...  \n",
      "\n",
      "[1 rows x 68 columns]\n"
     ]
    }
   ],
   "source": [
    "import pandas as pd\n",
    "import json\n",
    "\n",
    "# Specify the path to your JSON file\n",
    "json_file_path = \"downloaded_data.json\"\n",
    "\n",
    "# Extract data from the JSON file\n",
    "with open(json_file_path) as file:\n",
    "    Death_RatesForSuicide_data = json.load(file)\n",
    "\n",
    "# Normalize the JSON data into a DataFrame\n",
    "profiles_df = pd.json_normalize(Death_RatesForSuicide_data)\n",
    "\n",
    "# Display the initial structure of the profiles data\n",
    "print(\"Death_Rates DataFrame:\")\n",
    "print(profiles_df.head())\n"
   ]
  },
  {
   "cell_type": "code",
   "execution_count": null,
   "id": "bdd3b669-34c5-419e-a1d5-ef1102317289",
   "metadata": {},
   "outputs": [],
   "source": []
  }
 ],
 "metadata": {
  "kernelspec": {
   "display_name": "Python 3 (ipykernel)",
   "language": "python",
   "name": "python3"
  },
  "language_info": {
   "codemirror_mode": {
    "name": "ipython",
    "version": 3
   },
   "file_extension": ".py",
   "mimetype": "text/x-python",
   "name": "python",
   "nbconvert_exporter": "python",
   "pygments_lexer": "ipython3",
   "version": "3.11.7"
  }
 },
 "nbformat": 4,
 "nbformat_minor": 5
}
